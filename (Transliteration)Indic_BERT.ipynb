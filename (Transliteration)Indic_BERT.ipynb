{
  "nbformat": 4,
  "nbformat_minor": 0,
  "metadata": {
    "accelerator": "GPU",
    "colab": {
      "name": "(Transliteration)Indic_BERT.ipynb",
      "provenance": [],
      "collapsed_sections": []
    },
    "kernelspec": {
      "display_name": "Python 3",
      "name": "python3"
    }
  },
  "cells": [
    {
      "cell_type": "code",
      "metadata": {
        "colab": {
          "base_uri": "https://localhost:8080/"
        },
        "id": "HhAqZLs3lwhW",
        "outputId": "70a52606-f9ed-4d35-cc36-edfebd8b515e"
      },
      "source": [
        "# Fist install the library and download the models from github\n",
        "# !pip install transformers\n",
        "!pip install transformers\n",
        "# !wget https://users.dcc.uchile.cl/~jperez/beto/cased_2M/pytorch_weights.tar.gz \n",
        "# !wget https://users.dcc.uchile.cl/~jperez/beto/cased_2M/vocab.txt \n",
        "# !wget https://users.dcc.uchile.cl/~jperez/beto/cased_2M/config.json \n",
        "# !tar -xzvf pytorch_weights.tar.gz\n",
        "# !mv config.json pytorch/.\n",
        "# !mv vocab.txt pytorch/."
      ],
      "execution_count": null,
      "outputs": [
        {
          "output_type": "stream",
          "name": "stdout",
          "text": [
            "Collecting transformers\n",
            "  Downloading transformers-4.17.0-py3-none-any.whl (3.8 MB)\n",
            "\u001b[K     |████████████████████████████████| 3.8 MB 14.4 MB/s \n",
            "\u001b[?25hRequirement already satisfied: requests in /usr/local/lib/python3.7/dist-packages (from transformers) (2.23.0)\n",
            "Requirement already satisfied: numpy>=1.17 in /usr/local/lib/python3.7/dist-packages (from transformers) (1.21.5)\n",
            "Requirement already satisfied: filelock in /usr/local/lib/python3.7/dist-packages (from transformers) (3.6.0)\n",
            "Collecting sacremoses\n",
            "  Downloading sacremoses-0.0.49-py3-none-any.whl (895 kB)\n",
            "\u001b[K     |████████████████████████████████| 895 kB 68.1 MB/s \n",
            "\u001b[?25hRequirement already satisfied: packaging>=20.0 in /usr/local/lib/python3.7/dist-packages (from transformers) (21.3)\n",
            "Requirement already satisfied: regex!=2019.12.17 in /usr/local/lib/python3.7/dist-packages (from transformers) (2019.12.20)\n",
            "Requirement already satisfied: importlib-metadata in /usr/local/lib/python3.7/dist-packages (from transformers) (4.11.3)\n",
            "Collecting pyyaml>=5.1\n",
            "  Downloading PyYAML-6.0-cp37-cp37m-manylinux_2_5_x86_64.manylinux1_x86_64.manylinux_2_12_x86_64.manylinux2010_x86_64.whl (596 kB)\n",
            "\u001b[K     |████████████████████████████████| 596 kB 44.9 MB/s \n",
            "\u001b[?25hRequirement already satisfied: tqdm>=4.27 in /usr/local/lib/python3.7/dist-packages (from transformers) (4.63.0)\n",
            "Collecting tokenizers!=0.11.3,>=0.11.1\n",
            "  Downloading tokenizers-0.11.6-cp37-cp37m-manylinux_2_12_x86_64.manylinux2010_x86_64.whl (6.5 MB)\n",
            "\u001b[K     |████████████████████████████████| 6.5 MB 38.2 MB/s \n",
            "\u001b[?25hCollecting huggingface-hub<1.0,>=0.1.0\n",
            "  Downloading huggingface_hub-0.4.0-py3-none-any.whl (67 kB)\n",
            "\u001b[K     |████████████████████████████████| 67 kB 5.4 MB/s \n",
            "\u001b[?25hRequirement already satisfied: typing-extensions>=3.7.4.3 in /usr/local/lib/python3.7/dist-packages (from huggingface-hub<1.0,>=0.1.0->transformers) (3.10.0.2)\n",
            "Requirement already satisfied: pyparsing!=3.0.5,>=2.0.2 in /usr/local/lib/python3.7/dist-packages (from packaging>=20.0->transformers) (3.0.7)\n",
            "Requirement already satisfied: zipp>=0.5 in /usr/local/lib/python3.7/dist-packages (from importlib-metadata->transformers) (3.7.0)\n",
            "Requirement already satisfied: certifi>=2017.4.17 in /usr/local/lib/python3.7/dist-packages (from requests->transformers) (2021.10.8)\n",
            "Requirement already satisfied: idna<3,>=2.5 in /usr/local/lib/python3.7/dist-packages (from requests->transformers) (2.10)\n",
            "Requirement already satisfied: urllib3!=1.25.0,!=1.25.1,<1.26,>=1.21.1 in /usr/local/lib/python3.7/dist-packages (from requests->transformers) (1.24.3)\n",
            "Requirement already satisfied: chardet<4,>=3.0.2 in /usr/local/lib/python3.7/dist-packages (from requests->transformers) (3.0.4)\n",
            "Requirement already satisfied: six in /usr/local/lib/python3.7/dist-packages (from sacremoses->transformers) (1.15.0)\n",
            "Requirement already satisfied: click in /usr/local/lib/python3.7/dist-packages (from sacremoses->transformers) (7.1.2)\n",
            "Requirement already satisfied: joblib in /usr/local/lib/python3.7/dist-packages (from sacremoses->transformers) (1.1.0)\n",
            "Installing collected packages: pyyaml, tokenizers, sacremoses, huggingface-hub, transformers\n",
            "  Attempting uninstall: pyyaml\n",
            "    Found existing installation: PyYAML 3.13\n",
            "    Uninstalling PyYAML-3.13:\n",
            "      Successfully uninstalled PyYAML-3.13\n",
            "Successfully installed huggingface-hub-0.4.0 pyyaml-6.0 sacremoses-0.0.49 tokenizers-0.11.6 transformers-4.17.0\n"
          ]
        }
      ]
    },
    {
      "cell_type": "code",
      "metadata": {
        "id": "NpvXZ0i1RgpT"
      },
      "source": [
        "import warnings\n",
        "warnings.simplefilter('ignore')"
      ],
      "execution_count": null,
      "outputs": []
    },
    {
      "cell_type": "code",
      "metadata": {
        "id": "HDhW5AlRJrdN",
        "colab": {
          "base_uri": "https://localhost:8080/"
        },
        "outputId": "c387453a-a300-41d3-c9be-a8de407ae557"
      },
      "source": [
        "from google.colab import drive\n",
        "drive.mount('/content/drive')"
      ],
      "execution_count": null,
      "outputs": [
        {
          "output_type": "stream",
          "name": "stdout",
          "text": [
            "Mounted at /content/drive\n"
          ]
        }
      ]
    },
    {
      "cell_type": "code",
      "metadata": {
        "id": "X-5Vd5WO8MMC"
      },
      "source": [
        ""
      ],
      "execution_count": null,
      "outputs": []
    },
    {
      "cell_type": "code",
      "metadata": {
        "id": "NiXwDYggKcuS"
      },
      "source": [
        "with open(\"/content/drive/MyDrive/dataa/D3_Latest.txt\",\"r\")as a:\n",
        "\ttexts = a.readlines()"
      ],
      "execution_count": null,
      "outputs": []
    },
    {
      "cell_type": "code",
      "metadata": {
        "id": "5TUaAvzaMl5O"
      },
      "source": [
        "with open(\"/content/drive/MyDrive/dataa/Trac2_test.txt\",\"r\")as a:\n",
        "\ttexts_test = a.readlines()"
      ],
      "execution_count": null,
      "outputs": []
    },
    {
      "cell_type": "code",
      "metadata": {
        "id": "jGWj6rP4Mzxm"
      },
      "source": [
        "import pickle\n"
      ],
      "execution_count": null,
      "outputs": []
    },
    {
      "cell_type": "code",
      "metadata": {
        "id": "4v3NQ3uiLw39"
      },
      "source": [
        "with open('/content/drive/MyDrive/dataa/D3_Labels_Latest.pkl', 'rb') as f:\n",
        "  Labels = pickle.load(f)"
      ],
      "execution_count": null,
      "outputs": []
    },
    {
      "cell_type": "code",
      "source": [
        "# Labels"
      ],
      "metadata": {
        "id": "c9O13cD9sPyJ"
      },
      "execution_count": null,
      "outputs": []
    },
    {
      "cell_type": "code",
      "metadata": {
        "id": "nOYwfuFWLwz6"
      },
      "source": [
        "with open('/content/drive/MyDrive/dataa/Trac2_test_Labels.pkl', 'rb') as f:\n",
        "  Labels_test = pickle.load(f)"
      ],
      "execution_count": null,
      "outputs": []
    },
    {
      "cell_type": "code",
      "source": [
        "# Labels_test"
      ],
      "metadata": {
        "id": "kEabnbkMrose"
      },
      "execution_count": null,
      "outputs": []
    },
    {
      "cell_type": "code",
      "metadata": {
        "id": "70XvAaKMNrAd"
      },
      "source": [
        "import pandas as pd"
      ],
      "execution_count": null,
      "outputs": []
    },
    {
      "cell_type": "code",
      "metadata": {
        "id": "89yOWcRMLwv9"
      },
      "source": [
        "train = pd.DataFrame(zip(texts,Labels),columns=['Text','Label'])"
      ],
      "execution_count": null,
      "outputs": []
    },
    {
      "cell_type": "code",
      "metadata": {
        "id": "IijvjDyUNtZS"
      },
      "source": [
        "testt = pd.DataFrame(zip(texts_test,Labels_test),columns=['Text','Label'])"
      ],
      "execution_count": null,
      "outputs": []
    },
    {
      "cell_type": "code",
      "metadata": {
        "id": "1L0dCDOuK7o6"
      },
      "source": [
        "# max_size =train[\"Label\"].value_counts().max()\n",
        "\n",
        "\n",
        "# lst = [train]\n",
        "# for class_index, group in train.groupby('Label'):\n",
        "#     lst.append(group.sample(max_size-len(group), replace=True))\n",
        "# train_new = pd.concat(lst)"
      ],
      "execution_count": null,
      "outputs": []
    },
    {
      "cell_type": "code",
      "metadata": {
        "id": "tb9CZLSgQphw"
      },
      "source": [
        "# import pandas as pd\n",
        "# train = pd.read_csv(\"/content/augmented_trac2.csv\")\n",
        "# # testt = pd.read_excel(\"/content/test.xlsx\")"
      ],
      "execution_count": null,
      "outputs": []
    },
    {
      "cell_type": "code",
      "metadata": {
        "colab": {
          "base_uri": "https://localhost:8080/",
          "height": 206
        },
        "id": "0LvO_lnnpFoq",
        "outputId": "6e0d75be-32fa-4ef1-bb10-378c9f97db03"
      },
      "source": [
        "train.head()"
      ],
      "execution_count": null,
      "outputs": [
        {
          "output_type": "execute_result",
          "data": {
            "text/plain": [
              "                                                Text  Label\n",
              "0  bollywood film dekhne ke samay logic ghar mein...      1\n",
              "1                                          chutiya\\n      1\n",
              "2  us jaat bnde ka khene ka matlab tha mar daluga...      2\n",
              "3  is cancer feminist yeh sahi hai but iska matla...      2\n",
              "4   amrit anand ab to jude hi he unako bolo judane\\n      1"
            ],
            "text/html": [
              "\n",
              "  <div id=\"df-149a7d25-5621-46d0-b0cf-ee8acad29407\">\n",
              "    <div class=\"colab-df-container\">\n",
              "      <div>\n",
              "<style scoped>\n",
              "    .dataframe tbody tr th:only-of-type {\n",
              "        vertical-align: middle;\n",
              "    }\n",
              "\n",
              "    .dataframe tbody tr th {\n",
              "        vertical-align: top;\n",
              "    }\n",
              "\n",
              "    .dataframe thead th {\n",
              "        text-align: right;\n",
              "    }\n",
              "</style>\n",
              "<table border=\"1\" class=\"dataframe\">\n",
              "  <thead>\n",
              "    <tr style=\"text-align: right;\">\n",
              "      <th></th>\n",
              "      <th>Text</th>\n",
              "      <th>Label</th>\n",
              "    </tr>\n",
              "  </thead>\n",
              "  <tbody>\n",
              "    <tr>\n",
              "      <th>0</th>\n",
              "      <td>bollywood film dekhne ke samay logic ghar mein...</td>\n",
              "      <td>1</td>\n",
              "    </tr>\n",
              "    <tr>\n",
              "      <th>1</th>\n",
              "      <td>chutiya\\n</td>\n",
              "      <td>1</td>\n",
              "    </tr>\n",
              "    <tr>\n",
              "      <th>2</th>\n",
              "      <td>us jaat bnde ka khene ka matlab tha mar daluga...</td>\n",
              "      <td>2</td>\n",
              "    </tr>\n",
              "    <tr>\n",
              "      <th>3</th>\n",
              "      <td>is cancer feminist yeh sahi hai but iska matla...</td>\n",
              "      <td>2</td>\n",
              "    </tr>\n",
              "    <tr>\n",
              "      <th>4</th>\n",
              "      <td>amrit anand ab to jude hi he unako bolo judane\\n</td>\n",
              "      <td>1</td>\n",
              "    </tr>\n",
              "  </tbody>\n",
              "</table>\n",
              "</div>\n",
              "      <button class=\"colab-df-convert\" onclick=\"convertToInteractive('df-149a7d25-5621-46d0-b0cf-ee8acad29407')\"\n",
              "              title=\"Convert this dataframe to an interactive table.\"\n",
              "              style=\"display:none;\">\n",
              "        \n",
              "  <svg xmlns=\"http://www.w3.org/2000/svg\" height=\"24px\"viewBox=\"0 0 24 24\"\n",
              "       width=\"24px\">\n",
              "    <path d=\"M0 0h24v24H0V0z\" fill=\"none\"/>\n",
              "    <path d=\"M18.56 5.44l.94 2.06.94-2.06 2.06-.94-2.06-.94-.94-2.06-.94 2.06-2.06.94zm-11 1L8.5 8.5l.94-2.06 2.06-.94-2.06-.94L8.5 2.5l-.94 2.06-2.06.94zm10 10l.94 2.06.94-2.06 2.06-.94-2.06-.94-.94-2.06-.94 2.06-2.06.94z\"/><path d=\"M17.41 7.96l-1.37-1.37c-.4-.4-.92-.59-1.43-.59-.52 0-1.04.2-1.43.59L10.3 9.45l-7.72 7.72c-.78.78-.78 2.05 0 2.83L4 21.41c.39.39.9.59 1.41.59.51 0 1.02-.2 1.41-.59l7.78-7.78 2.81-2.81c.8-.78.8-2.07 0-2.86zM5.41 20L4 18.59l7.72-7.72 1.47 1.35L5.41 20z\"/>\n",
              "  </svg>\n",
              "      </button>\n",
              "      \n",
              "  <style>\n",
              "    .colab-df-container {\n",
              "      display:flex;\n",
              "      flex-wrap:wrap;\n",
              "      gap: 12px;\n",
              "    }\n",
              "\n",
              "    .colab-df-convert {\n",
              "      background-color: #E8F0FE;\n",
              "      border: none;\n",
              "      border-radius: 50%;\n",
              "      cursor: pointer;\n",
              "      display: none;\n",
              "      fill: #1967D2;\n",
              "      height: 32px;\n",
              "      padding: 0 0 0 0;\n",
              "      width: 32px;\n",
              "    }\n",
              "\n",
              "    .colab-df-convert:hover {\n",
              "      background-color: #E2EBFA;\n",
              "      box-shadow: 0px 1px 2px rgba(60, 64, 67, 0.3), 0px 1px 3px 1px rgba(60, 64, 67, 0.15);\n",
              "      fill: #174EA6;\n",
              "    }\n",
              "\n",
              "    [theme=dark] .colab-df-convert {\n",
              "      background-color: #3B4455;\n",
              "      fill: #D2E3FC;\n",
              "    }\n",
              "\n",
              "    [theme=dark] .colab-df-convert:hover {\n",
              "      background-color: #434B5C;\n",
              "      box-shadow: 0px 1px 3px 1px rgba(0, 0, 0, 0.15);\n",
              "      filter: drop-shadow(0px 1px 2px rgba(0, 0, 0, 0.3));\n",
              "      fill: #FFFFFF;\n",
              "    }\n",
              "  </style>\n",
              "\n",
              "      <script>\n",
              "        const buttonEl =\n",
              "          document.querySelector('#df-149a7d25-5621-46d0-b0cf-ee8acad29407 button.colab-df-convert');\n",
              "        buttonEl.style.display =\n",
              "          google.colab.kernel.accessAllowed ? 'block' : 'none';\n",
              "\n",
              "        async function convertToInteractive(key) {\n",
              "          const element = document.querySelector('#df-149a7d25-5621-46d0-b0cf-ee8acad29407');\n",
              "          const dataTable =\n",
              "            await google.colab.kernel.invokeFunction('convertToInteractive',\n",
              "                                                     [key], {});\n",
              "          if (!dataTable) return;\n",
              "\n",
              "          const docLinkHtml = 'Like what you see? Visit the ' +\n",
              "            '<a target=\"_blank\" href=https://colab.research.google.com/notebooks/data_table.ipynb>data table notebook</a>'\n",
              "            + ' to learn more about interactive tables.';\n",
              "          element.innerHTML = '';\n",
              "          dataTable['output_type'] = 'display_data';\n",
              "          await google.colab.output.renderOutput(dataTable, element);\n",
              "          const docLink = document.createElement('div');\n",
              "          docLink.innerHTML = docLinkHtml;\n",
              "          element.appendChild(docLink);\n",
              "        }\n",
              "      </script>\n",
              "    </div>\n",
              "  </div>\n",
              "  "
            ]
          },
          "metadata": {},
          "execution_count": 14
        }
      ]
    },
    {
      "cell_type": "code",
      "metadata": {
        "id": "4IjpRn6kpKtn"
      },
      "source": [
        "train.columns=['Text','Label']"
      ],
      "execution_count": null,
      "outputs": []
    },
    {
      "cell_type": "code",
      "metadata": {
        "id": "lyg9Jtf_SIsI"
      },
      "source": [
        "from transformers import (\n",
        "   AutoConfig,\n",
        "   AutoTokenizer,\n",
        "   TFAutoModelForSequenceClassification,\n",
        "   AdamW,\n",
        "   glue_convert_examples_to_features\n",
        ")\n",
        "import tensorflow as tf\n",
        "import tensorflow_datasets as tfds\n",
        "import json"
      ],
      "execution_count": null,
      "outputs": []
    },
    {
      "cell_type": "code",
      "metadata": {
        "id": "m_pv1MU8SQa8"
      },
      "source": [
        "import transformers\n",
        "from transformers import BertModel, BertTokenizer, AdamW, get_linear_schedule_with_warmup\n",
        "import torch\n",
        "import numpy as np\n",
        "import pandas as pd\n",
        "import seaborn as sns\n",
        "from pylab import rcParams\n",
        "import matplotlib.pyplot as plt\n",
        "from matplotlib import rc\n",
        "from sklearn.model_selection import train_test_split\n",
        "from sklearn.metrics import confusion_matrix, classification_report\n",
        "from collections import defaultdict\n",
        "from textwrap import wrap\n",
        "from torch import nn, optim\n",
        "from torch.utils.data import Dataset, DataLoader\n",
        "%matplotlib inline\n",
        "%config InlineBackend.figure_format='retina'\n",
        "sns.set(style='whitegrid', palette='muted', font_scale=1.2)\n",
        "HAPPY_COLORS_PALETTE = [\"#01BEFE\", \"#FFDD00\", \"#FF7D00\", \"#FF006D\", \"#ADFF02\", \"#8F00FF\"]\n",
        "sns.set_palette(sns.color_palette(HAPPY_COLORS_PALETTE))\n",
        "rcParams['figure.figsize'] = 12, 8\n",
        "# RANDOM_SEED = 42\n",
        "# np.random.seed(RANDOM_SEED)\n",
        "# torch.manual_seed(RANDOM_SEED)\n",
        "device = torch.device(\"cuda:0\" if torch.cuda.is_available() else \"cpu\")"
      ],
      "execution_count": null,
      "outputs": []
    },
    {
      "cell_type": "code",
      "metadata": {
        "colab": {
          "base_uri": "https://localhost:8080/"
        },
        "id": "Kakkp0HNSVqh",
        "outputId": "8a16261b-48e8-48e9-a476-44a6e4b7b6fc"
      },
      "source": [
        " \n",
        "from tensorflow.python.client import device_lib\n",
        "device_lib.list_local_devices()"
      ],
      "execution_count": null,
      "outputs": [
        {
          "output_type": "execute_result",
          "data": {
            "text/plain": [
              "[name: \"/device:CPU:0\"\n",
              " device_type: \"CPU\"\n",
              " memory_limit: 268435456\n",
              " locality {\n",
              " }\n",
              " incarnation: 1949788207793465226\n",
              " xla_global_id: -1, name: \"/device:GPU:0\"\n",
              " device_type: \"GPU\"\n",
              " memory_limit: 13190823936\n",
              " locality {\n",
              "   bus_id: 1\n",
              "   links {\n",
              "   }\n",
              " }\n",
              " incarnation: 3310427090976392711\n",
              " physical_device_desc: \"device: 0, name: Tesla T4, pci bus id: 0000:00:04.0, compute capability: 7.5\"\n",
              " xla_global_id: 416903419]"
            ]
          },
          "metadata": {},
          "execution_count": 18
        }
      ]
    },
    {
      "cell_type": "code",
      "source": [
        "!pip3 install sentencepiece\n"
      ],
      "metadata": {
        "colab": {
          "base_uri": "https://localhost:8080/"
        },
        "id": "3YYlCnFLn3Ry",
        "outputId": "58bc4283-2eaf-46f8-c6d0-e50ad4c72bbb"
      },
      "execution_count": null,
      "outputs": [
        {
          "output_type": "stream",
          "name": "stdout",
          "text": [
            "Collecting sentencepiece\n",
            "  Downloading sentencepiece-0.1.96-cp37-cp37m-manylinux_2_17_x86_64.manylinux2014_x86_64.whl (1.2 MB)\n",
            "\u001b[?25l\r\u001b[K     |▎                               | 10 kB 31.2 MB/s eta 0:00:01\r\u001b[K     |▌                               | 20 kB 38.9 MB/s eta 0:00:01\r\u001b[K     |▉                               | 30 kB 26.2 MB/s eta 0:00:01\r\u001b[K     |█                               | 40 kB 14.5 MB/s eta 0:00:01\r\u001b[K     |█▍                              | 51 kB 13.5 MB/s eta 0:00:01\r\u001b[K     |█▋                              | 61 kB 15.7 MB/s eta 0:00:01\r\u001b[K     |██                              | 71 kB 15.0 MB/s eta 0:00:01\r\u001b[K     |██▏                             | 81 kB 14.7 MB/s eta 0:00:01\r\u001b[K     |██▍                             | 92 kB 16.1 MB/s eta 0:00:01\r\u001b[K     |██▊                             | 102 kB 14.4 MB/s eta 0:00:01\r\u001b[K     |███                             | 112 kB 14.4 MB/s eta 0:00:01\r\u001b[K     |███▎                            | 122 kB 14.4 MB/s eta 0:00:01\r\u001b[K     |███▌                            | 133 kB 14.4 MB/s eta 0:00:01\r\u001b[K     |███▉                            | 143 kB 14.4 MB/s eta 0:00:01\r\u001b[K     |████                            | 153 kB 14.4 MB/s eta 0:00:01\r\u001b[K     |████▎                           | 163 kB 14.4 MB/s eta 0:00:01\r\u001b[K     |████▋                           | 174 kB 14.4 MB/s eta 0:00:01\r\u001b[K     |████▉                           | 184 kB 14.4 MB/s eta 0:00:01\r\u001b[K     |█████▏                          | 194 kB 14.4 MB/s eta 0:00:01\r\u001b[K     |█████▍                          | 204 kB 14.4 MB/s eta 0:00:01\r\u001b[K     |█████▊                          | 215 kB 14.4 MB/s eta 0:00:01\r\u001b[K     |██████                          | 225 kB 14.4 MB/s eta 0:00:01\r\u001b[K     |██████▏                         | 235 kB 14.4 MB/s eta 0:00:01\r\u001b[K     |██████▌                         | 245 kB 14.4 MB/s eta 0:00:01\r\u001b[K     |██████▊                         | 256 kB 14.4 MB/s eta 0:00:01\r\u001b[K     |███████                         | 266 kB 14.4 MB/s eta 0:00:01\r\u001b[K     |███████▎                        | 276 kB 14.4 MB/s eta 0:00:01\r\u001b[K     |███████▋                        | 286 kB 14.4 MB/s eta 0:00:01\r\u001b[K     |███████▉                        | 296 kB 14.4 MB/s eta 0:00:01\r\u001b[K     |████████                        | 307 kB 14.4 MB/s eta 0:00:01\r\u001b[K     |████████▍                       | 317 kB 14.4 MB/s eta 0:00:01\r\u001b[K     |████████▋                       | 327 kB 14.4 MB/s eta 0:00:01\r\u001b[K     |█████████                       | 337 kB 14.4 MB/s eta 0:00:01\r\u001b[K     |█████████▏                      | 348 kB 14.4 MB/s eta 0:00:01\r\u001b[K     |█████████▌                      | 358 kB 14.4 MB/s eta 0:00:01\r\u001b[K     |█████████▊                      | 368 kB 14.4 MB/s eta 0:00:01\r\u001b[K     |██████████                      | 378 kB 14.4 MB/s eta 0:00:01\r\u001b[K     |██████████▎                     | 389 kB 14.4 MB/s eta 0:00:01\r\u001b[K     |██████████▌                     | 399 kB 14.4 MB/s eta 0:00:01\r\u001b[K     |██████████▉                     | 409 kB 14.4 MB/s eta 0:00:01\r\u001b[K     |███████████                     | 419 kB 14.4 MB/s eta 0:00:01\r\u001b[K     |███████████▍                    | 430 kB 14.4 MB/s eta 0:00:01\r\u001b[K     |███████████▋                    | 440 kB 14.4 MB/s eta 0:00:01\r\u001b[K     |███████████▉                    | 450 kB 14.4 MB/s eta 0:00:01\r\u001b[K     |████████████▏                   | 460 kB 14.4 MB/s eta 0:00:01\r\u001b[K     |████████████▍                   | 471 kB 14.4 MB/s eta 0:00:01\r\u001b[K     |████████████▊                   | 481 kB 14.4 MB/s eta 0:00:01\r\u001b[K     |█████████████                   | 491 kB 14.4 MB/s eta 0:00:01\r\u001b[K     |█████████████▎                  | 501 kB 14.4 MB/s eta 0:00:01\r\u001b[K     |█████████████▌                  | 512 kB 14.4 MB/s eta 0:00:01\r\u001b[K     |█████████████▊                  | 522 kB 14.4 MB/s eta 0:00:01\r\u001b[K     |██████████████                  | 532 kB 14.4 MB/s eta 0:00:01\r\u001b[K     |██████████████▎                 | 542 kB 14.4 MB/s eta 0:00:01\r\u001b[K     |██████████████▋                 | 552 kB 14.4 MB/s eta 0:00:01\r\u001b[K     |██████████████▉                 | 563 kB 14.4 MB/s eta 0:00:01\r\u001b[K     |███████████████▏                | 573 kB 14.4 MB/s eta 0:00:01\r\u001b[K     |███████████████▍                | 583 kB 14.4 MB/s eta 0:00:01\r\u001b[K     |███████████████▋                | 593 kB 14.4 MB/s eta 0:00:01\r\u001b[K     |████████████████                | 604 kB 14.4 MB/s eta 0:00:01\r\u001b[K     |████████████████▏               | 614 kB 14.4 MB/s eta 0:00:01\r\u001b[K     |████████████████▌               | 624 kB 14.4 MB/s eta 0:00:01\r\u001b[K     |████████████████▊               | 634 kB 14.4 MB/s eta 0:00:01\r\u001b[K     |█████████████████               | 645 kB 14.4 MB/s eta 0:00:01\r\u001b[K     |█████████████████▎              | 655 kB 14.4 MB/s eta 0:00:01\r\u001b[K     |█████████████████▌              | 665 kB 14.4 MB/s eta 0:00:01\r\u001b[K     |█████████████████▉              | 675 kB 14.4 MB/s eta 0:00:01\r\u001b[K     |██████████████████              | 686 kB 14.4 MB/s eta 0:00:01\r\u001b[K     |██████████████████▍             | 696 kB 14.4 MB/s eta 0:00:01\r\u001b[K     |██████████████████▋             | 706 kB 14.4 MB/s eta 0:00:01\r\u001b[K     |███████████████████             | 716 kB 14.4 MB/s eta 0:00:01\r\u001b[K     |███████████████████▏            | 727 kB 14.4 MB/s eta 0:00:01\r\u001b[K     |███████████████████▍            | 737 kB 14.4 MB/s eta 0:00:01\r\u001b[K     |███████████████████▊            | 747 kB 14.4 MB/s eta 0:00:01\r\u001b[K     |████████████████████            | 757 kB 14.4 MB/s eta 0:00:01\r\u001b[K     |████████████████████▎           | 768 kB 14.4 MB/s eta 0:00:01\r\u001b[K     |████████████████████▌           | 778 kB 14.4 MB/s eta 0:00:01\r\u001b[K     |████████████████████▉           | 788 kB 14.4 MB/s eta 0:00:01\r\u001b[K     |█████████████████████           | 798 kB 14.4 MB/s eta 0:00:01\r\u001b[K     |█████████████████████▎          | 808 kB 14.4 MB/s eta 0:00:01\r\u001b[K     |█████████████████████▋          | 819 kB 14.4 MB/s eta 0:00:01\r\u001b[K     |█████████████████████▉          | 829 kB 14.4 MB/s eta 0:00:01\r\u001b[K     |██████████████████████▏         | 839 kB 14.4 MB/s eta 0:00:01\r\u001b[K     |██████████████████████▍         | 849 kB 14.4 MB/s eta 0:00:01\r\u001b[K     |██████████████████████▊         | 860 kB 14.4 MB/s eta 0:00:01\r\u001b[K     |███████████████████████         | 870 kB 14.4 MB/s eta 0:00:01\r\u001b[K     |███████████████████████▏        | 880 kB 14.4 MB/s eta 0:00:01\r\u001b[K     |███████████████████████▌        | 890 kB 14.4 MB/s eta 0:00:01\r\u001b[K     |███████████████████████▊        | 901 kB 14.4 MB/s eta 0:00:01\r\u001b[K     |████████████████████████        | 911 kB 14.4 MB/s eta 0:00:01\r\u001b[K     |████████████████████████▎       | 921 kB 14.4 MB/s eta 0:00:01\r\u001b[K     |████████████████████████▋       | 931 kB 14.4 MB/s eta 0:00:01\r\u001b[K     |████████████████████████▉       | 942 kB 14.4 MB/s eta 0:00:01\r\u001b[K     |█████████████████████████       | 952 kB 14.4 MB/s eta 0:00:01\r\u001b[K     |█████████████████████████▍      | 962 kB 14.4 MB/s eta 0:00:01\r\u001b[K     |█████████████████████████▋      | 972 kB 14.4 MB/s eta 0:00:01\r\u001b[K     |██████████████████████████      | 983 kB 14.4 MB/s eta 0:00:01\r\u001b[K     |██████████████████████████▏     | 993 kB 14.4 MB/s eta 0:00:01\r\u001b[K     |██████████████████████████▌     | 1.0 MB 14.4 MB/s eta 0:00:01\r\u001b[K     |██████████████████████████▊     | 1.0 MB 14.4 MB/s eta 0:00:01\r\u001b[K     |███████████████████████████     | 1.0 MB 14.4 MB/s eta 0:00:01\r\u001b[K     |███████████████████████████▎    | 1.0 MB 14.4 MB/s eta 0:00:01\r\u001b[K     |███████████████████████████▌    | 1.0 MB 14.4 MB/s eta 0:00:01\r\u001b[K     |███████████████████████████▉    | 1.1 MB 14.4 MB/s eta 0:00:01\r\u001b[K     |████████████████████████████    | 1.1 MB 14.4 MB/s eta 0:00:01\r\u001b[K     |████████████████████████████▍   | 1.1 MB 14.4 MB/s eta 0:00:01\r\u001b[K     |████████████████████████████▋   | 1.1 MB 14.4 MB/s eta 0:00:01\r\u001b[K     |████████████████████████████▉   | 1.1 MB 14.4 MB/s eta 0:00:01\r\u001b[K     |█████████████████████████████▏  | 1.1 MB 14.4 MB/s eta 0:00:01\r\u001b[K     |█████████████████████████████▍  | 1.1 MB 14.4 MB/s eta 0:00:01\r\u001b[K     |█████████████████████████████▊  | 1.1 MB 14.4 MB/s eta 0:00:01\r\u001b[K     |██████████████████████████████  | 1.1 MB 14.4 MB/s eta 0:00:01\r\u001b[K     |██████████████████████████████▎ | 1.1 MB 14.4 MB/s eta 0:00:01\r\u001b[K     |██████████████████████████████▌ | 1.2 MB 14.4 MB/s eta 0:00:01\r\u001b[K     |██████████████████████████████▊ | 1.2 MB 14.4 MB/s eta 0:00:01\r\u001b[K     |███████████████████████████████ | 1.2 MB 14.4 MB/s eta 0:00:01\r\u001b[K     |███████████████████████████████▎| 1.2 MB 14.4 MB/s eta 0:00:01\r\u001b[K     |███████████████████████████████▋| 1.2 MB 14.4 MB/s eta 0:00:01\r\u001b[K     |███████████████████████████████▉| 1.2 MB 14.4 MB/s eta 0:00:01\r\u001b[K     |████████████████████████████████| 1.2 MB 14.4 MB/s \n",
            "\u001b[?25hInstalling collected packages: sentencepiece\n",
            "Successfully installed sentencepiece-0.1.96\n"
          ]
        }
      ]
    },
    {
      "cell_type": "code",
      "source": [
        "from transformers import AutoModel, AutoTokenizer\n",
        "tokenizer = AutoTokenizer.from_pretrained('ai4bharat/indic-bert')\n",
        "model = AutoModel.from_pretrained('ai4bharat/indic-bert')\n"
      ],
      "metadata": {
        "colab": {
          "base_uri": "https://localhost:8080/"
        },
        "id": "segpsWFDnsCo",
        "outputId": "24fdec34-40d6-4c69-bf2d-b4c01bb9bfa3"
      },
      "execution_count": null,
      "outputs": [
        {
          "output_type": "stream",
          "name": "stderr",
          "text": [
            "Some weights of the model checkpoint at ai4bharat/indic-bert were not used when initializing AlbertModel: ['predictions.LayerNorm.weight', 'predictions.dense.weight', 'predictions.LayerNorm.bias', 'predictions.decoder.weight', 'sop_classifier.classifier.weight', 'sop_classifier.classifier.bias', 'predictions.bias', 'predictions.dense.bias', 'predictions.decoder.bias']\n",
            "- This IS expected if you are initializing AlbertModel from the checkpoint of a model trained on another task or with another architecture (e.g. initializing a BertForSequenceClassification model from a BertForPreTraining model).\n",
            "- This IS NOT expected if you are initializing AlbertModel from the checkpoint of a model that you expect to be exactly identical (initializing a BertForSequenceClassification model from a BertForSequenceClassification model).\n"
          ]
        }
      ]
    },
    {
      "cell_type": "code",
      "metadata": {
        "id": "_XRmXxkZSWxH"
      },
      "source": [
        "# from transformers import BertModel\n",
        "# model = Auto.from_pretrained('/content/pytorch')"
      ],
      "execution_count": null,
      "outputs": []
    },
    {
      "cell_type": "code",
      "metadata": {
        "id": "E6PtBC0RpicX"
      },
      "source": [
        "train.dropna(inplace=True)"
      ],
      "execution_count": null,
      "outputs": []
    },
    {
      "cell_type": "code",
      "metadata": {
        "id": "IR8pP21XhnVB"
      },
      "source": [
        "train['Text'] = train['Text'].apply(lambda x:x.replace('\\n',''))"
      ],
      "execution_count": null,
      "outputs": []
    },
    {
      "cell_type": "code",
      "metadata": {
        "id": "4SNpvoO7M0my"
      },
      "source": [
        "# train_new.dropna(inplace=True)\n",
        "# train_new['Text'] = train_new['Text'].apply(lambda x:x.replace('\\n',''))"
      ],
      "execution_count": null,
      "outputs": []
    },
    {
      "cell_type": "code",
      "metadata": {
        "colab": {
          "base_uri": "https://localhost:8080/"
        },
        "id": "_E8y7N9LUMVo",
        "outputId": "6f260293-0015-4738-b31e-d69bafe40c6f"
      },
      "source": [
        "train.shape"
      ],
      "execution_count": null,
      "outputs": [
        {
          "output_type": "execute_result",
          "data": {
            "text/plain": [
              "(3984, 2)"
            ]
          },
          "metadata": {},
          "execution_count": 24
        }
      ]
    },
    {
      "cell_type": "code",
      "metadata": {
        "id": "GVPWHciQUNdm"
      },
      "source": [
        "# from sklearn.preprocessing import LabelEncoder\n",
        "# labelencoder = LabelEncoder()\n",
        "# train['Label'] = labelencoder.fit_transform(train['Label'])"
      ],
      "execution_count": null,
      "outputs": []
    },
    {
      "cell_type": "code",
      "metadata": {
        "id": "TQ-gD2eEM6u5"
      },
      "source": [
        "# from sklearn.preprocessing import LabelEncoder\n",
        "# labelencoder = LabelEncoder()\n",
        "# train_new['Label'] = labelencoder.fit_transform(train_new['Label'])"
      ],
      "execution_count": null,
      "outputs": []
    },
    {
      "cell_type": "code",
      "metadata": {
        "colab": {
          "base_uri": "https://localhost:8080/",
          "height": 506
        },
        "id": "8A8wheS1Urhg",
        "outputId": "94c45272-57fd-45af-e0db-c35b8409998f"
      },
      "source": [
        "import seaborn as sns\n",
        "import matplotlib.pyplot as plt\n",
        "sns.countplot(train.Label)\n",
        "plt.xlabel('label');"
      ],
      "execution_count": null,
      "outputs": [
        {
          "output_type": "display_data",
          "data": {
            "text/plain": [
              "<Figure size 864x576 with 1 Axes>"
            ],
            "image/png": "[encoded data removed]"
          },
          "metadata": {
            "image/png": {
              "width": 745,
              "height": 489
            }
          }
        }
      ]
    },
    {
      "cell_type": "code",
      "metadata": {
        "id": "U4kspTwzUv5m"
      },
      "source": [
        "# model_name = '/content/pytorch/hindi-vocab.txt'\n",
        "# tokenizer = BertTokenizer.from_pretrained(model_name, truncation=True)"
      ],
      "execution_count": null,
      "outputs": []
    },
    {
      "cell_type": "code",
      "source": [
        ""
      ],
      "metadata": {
        "id": "8YjlF7A261VD"
      },
      "execution_count": null,
      "outputs": []
    },
    {
      "cell_type": "code",
      "metadata": {
        "id": "CKIUM1Dc-_9d"
      },
      "source": [
        "import codecs,string\n",
        "def detect_language(character):\n",
        "    maxchar = max(character)\n",
        "    if u'\\u0900' <= maxchar <= u'\\u097f':\n",
        "        return 'hindi'\n",
        "    if maxchar.isalpha():\n",
        "      return \"English\""
      ],
      "execution_count": null,
      "outputs": []
    },
    {
      "cell_type": "code",
      "metadata": {
        "colab": {
          "base_uri": "https://localhost:8080/"
        },
        "id": "0HkZYZAG_c1I",
        "outputId": "398f6ea3-9a27-48a2-b46b-e6c47e075906"
      },
      "source": [
        "!git clone https://github.com/libindic/indic-trans.git"
      ],
      "execution_count": null,
      "outputs": [
        {
          "output_type": "stream",
          "name": "stdout",
          "text": [
            "Cloning into 'indic-trans'...\n",
            "remote: Enumerating objects: 2214, done.\u001b[K\n",
            "remote: Counting objects: 100% (8/8), done.\u001b[K\n",
            "remote: Compressing objects: 100% (8/8), done.\u001b[K\n",
            "remote: Total 2214 (delta 2), reused 0 (delta 0), pack-reused 2206\u001b[K\n",
            "Receiving objects: 100% (2214/2214), 516.51 MiB | 10.33 MiB/s, done.\n",
            "Resolving deltas: 100% (1096/1096), done.\n",
            "Checking out files: 100% (719/719), done.\n"
          ]
        }
      ]
    },
    {
      "cell_type": "code",
      "metadata": {
        "colab": {
          "base_uri": "https://localhost:8080/"
        },
        "id": "SF2fbkxd_cyR",
        "outputId": "c65bbcfc-f3b9-490c-a341-e3842d527401"
      },
      "source": [
        "cd indic-trans/\n"
      ],
      "execution_count": null,
      "outputs": [
        {
          "output_type": "stream",
          "name": "stdout",
          "text": [
            "/content/indic-trans\n"
          ]
        }
      ]
    },
    {
      "cell_type": "code",
      "metadata": {
        "colab": {
          "base_uri": "https://localhost:8080/"
        },
        "id": "d0pRYDn5_cv9",
        "outputId": "537c0080-7326-446a-9401-08a115fd7677"
      },
      "source": [
        "!pip install -r requirements.txt"
      ],
      "execution_count": null,
      "outputs": [
        {
          "output_type": "stream",
          "name": "stdout",
          "text": [
            "Collecting pbr\n",
            "  Downloading pbr-5.8.1-py2.py3-none-any.whl (113 kB)\n",
            "\u001b[?25l\r\u001b[K     |███                             | 10 kB 30.9 MB/s eta 0:00:01\r\u001b[K     |█████▉                          | 20 kB 35.5 MB/s eta 0:00:01\r\u001b[K     |████████▊                       | 30 kB 22.5 MB/s eta 0:00:01\r\u001b[K     |███████████▋                    | 40 kB 13.6 MB/s eta 0:00:01\r\u001b[K     |██████████████▌                 | 51 kB 12.7 MB/s eta 0:00:01\r\u001b[K     |█████████████████▍              | 61 kB 14.8 MB/s eta 0:00:01\r\u001b[K     |████████████████████▎           | 71 kB 14.0 MB/s eta 0:00:01\r\u001b[K     |███████████████████████▏        | 81 kB 12.3 MB/s eta 0:00:01\r\u001b[K     |██████████████████████████      | 92 kB 13.6 MB/s eta 0:00:01\r\u001b[K     |█████████████████████████████   | 102 kB 14.1 MB/s eta 0:00:01\r\u001b[K     |███████████████████████████████▉| 112 kB 14.1 MB/s eta 0:00:01\r\u001b[K     |████████████████████████████████| 113 kB 14.1 MB/s \n",
            "\u001b[?25hRequirement already satisfied: six in /usr/local/lib/python3.7/dist-packages (from -r requirements.txt (line 2)) (1.15.0)\n",
            "Requirement already satisfied: future in /usr/local/lib/python3.7/dist-packages (from -r requirements.txt (line 3)) (0.16.0)\n",
            "Requirement already satisfied: cython>=0.24.0a0 in /usr/local/lib/python3.7/dist-packages (from -r requirements.txt (line 4)) (0.29.28)\n",
            "Requirement already satisfied: numpy>=1.10.4 in /usr/local/lib/python3.7/dist-packages (from -r requirements.txt (line 5)) (1.21.5)\n",
            "Requirement already satisfied: scipy>=0.13.3 in /usr/local/lib/python3.7/dist-packages (from -r requirements.txt (line 6)) (1.4.1)\n",
            "Installing collected packages: pbr\n",
            "Successfully installed pbr-5.8.1\n"
          ]
        }
      ]
    },
    {
      "cell_type": "code",
      "metadata": {
        "colab": {
          "base_uri": "https://localhost:8080/"
        },
        "id": "q_p9-_nx_cub",
        "outputId": "1097c8bd-6193-4161-c101-6b2c921ac8d0"
      },
      "source": [
        "!python3 setup.py build_ext --inplace"
      ],
      "execution_count": null,
      "outputs": [
        {
          "output_type": "stream",
          "name": "stdout",
          "text": [
            "Compiling indictrans/_decode/beamsearch.pyx because it changed.\n",
            "Compiling indictrans/_decode/viterbi.pyx because it changed.\n",
            "[1/2] Cythonizing indictrans/_decode/beamsearch.pyx\n",
            "/usr/local/lib/python3.7/dist-packages/Cython/Compiler/Main.py:369: FutureWarning: Cython directive 'language_level' not set, using 2 for now (Py2). This will change in a later release! File: /content/indic-trans/indictrans/_decode/beamsearch.pyx\n",
            "  tree = Parsing.p_module(s, pxd, full_module_name)\n",
            "[2/2] Cythonizing indictrans/_decode/viterbi.pyx\n",
            "/usr/local/lib/python3.7/dist-packages/Cython/Compiler/Main.py:369: FutureWarning: Cython directive 'language_level' not set, using 2 for now (Py2). This will change in a later release! File: /content/indic-trans/indictrans/_decode/viterbi.pyx\n",
            "  tree = Parsing.p_module(s, pxd, full_module_name)\n",
            "/usr/local/lib/python3.7/dist-packages/setuptools/dist.py:700: UserWarning: Usage of dash-separated 'description-file' will not be supported in future versions. Please use the underscore name 'description_file' instead\n",
            "  % (opt, underscore_opt))\n",
            "/usr/local/lib/python3.7/dist-packages/setuptools/dist.py:700: UserWarning: Usage of dash-separated 'author-email' will not be supported in future versions. Please use the underscore name 'author_email' instead\n",
            "  % (opt, underscore_opt))\n",
            "/usr/local/lib/python3.7/dist-packages/setuptools/dist.py:700: UserWarning: Usage of dash-separated 'home-page' will not be supported in future versions. Please use the underscore name 'home_page' instead\n",
            "  % (opt, underscore_opt))\n",
            "/usr/local/lib/python3.7/dist-packages/setuptools/dist.py:700: UserWarning: Usage of dash-separated 'description-file' will not be supported in future versions. Please use the underscore name 'description_file' instead\n",
            "  % (opt, underscore_opt))\n",
            "/usr/local/lib/python3.7/dist-packages/setuptools/dist.py:700: UserWarning: Usage of dash-separated 'author-email' will not be supported in future versions. Please use the underscore name 'author_email' instead\n",
            "  % (opt, underscore_opt))\n",
            "/usr/local/lib/python3.7/dist-packages/setuptools/dist.py:700: UserWarning: Usage of dash-separated 'home-page' will not be supported in future versions. Please use the underscore name 'home_page' instead\n",
            "  % (opt, underscore_opt))\n",
            "running build_ext\n",
            "building 'indictrans._decode.beamsearch' extension\n",
            "creating build\n",
            "creating build/temp.linux-x86_64-3.7\n",
            "creating build/temp.linux-x86_64-3.7/indictrans\n",
            "creating build/temp.linux-x86_64-3.7/indictrans/_decode\n",
            "x86_64-linux-gnu-gcc -pthread -Wno-unused-result -Wsign-compare -DNDEBUG -g -fwrapv -O2 -Wall -g -fdebug-prefix-map=/build/python3.7-pX47U3/python3.7-3.7.12=. -fstack-protector-strong -Wformat -Werror=format-security -g -fdebug-prefix-map=/build/python3.7-pX47U3/python3.7-3.7.12=. -fstack-protector-strong -Wformat -Werror=format-security -Wdate-time -D_FORTIFY_SOURCE=2 -fPIC -I/usr/local/lib/python3.7/dist-packages/numpy/core/include -I/usr/include/python3.7m -c indictrans/_decode/beamsearch.c -o build/temp.linux-x86_64-3.7/indictrans/_decode/beamsearch.o\n",
            "In file included from \u001b[01m\u001b[K/usr/local/lib/python3.7/dist-packages/numpy/core/include/numpy/ndarraytypes.h:1969:0\u001b[m\u001b[K,\n",
            "                 from \u001b[01m\u001b[K/usr/local/lib/python3.7/dist-packages/numpy/core/include/numpy/ndarrayobject.h:12\u001b[m\u001b[K,\n",
            "                 from \u001b[01m\u001b[K/usr/local/lib/python3.7/dist-packages/numpy/core/include/numpy/arrayobject.h:4\u001b[m\u001b[K,\n",
            "                 from \u001b[01m\u001b[Kindictrans/_decode/beamsearch.c:709\u001b[m\u001b[K:\n",
            "\u001b[01m\u001b[K/usr/local/lib/python3.7/dist-packages/numpy/core/include/numpy/npy_1_7_deprecated_api.h:17:2:\u001b[m\u001b[K \u001b[01;35m\u001b[Kwarning: \u001b[m\u001b[K#warning \"Using deprecated NumPy API, disable it with \" \"#define NPY_NO_DEPRECATED_API NPY_1_7_API_VERSION\" [\u001b[01;35m\u001b[K-Wcpp\u001b[m\u001b[K]\n",
            " #\u001b[01;35m\u001b[Kwarning\u001b[m\u001b[K \"Using deprecated NumPy API, disable it with \" \\\n",
            "  \u001b[01;35m\u001b[K^~~~~~~\u001b[m\u001b[K\n",
            "creating build/lib.linux-x86_64-3.7\n",
            "creating build/lib.linux-x86_64-3.7/indictrans\n",
            "creating build/lib.linux-x86_64-3.7/indictrans/_decode\n",
            "x86_64-linux-gnu-gcc -pthread -shared -Wl,-O1 -Wl,-Bsymbolic-functions -Wl,-Bsymbolic-functions -Wl,-z,relro -Wl,-Bsymbolic-functions -Wl,-z,relro -g -fdebug-prefix-map=/build/python3.7-pX47U3/python3.7-3.7.12=. -fstack-protector-strong -Wformat -Werror=format-security -Wdate-time -D_FORTIFY_SOURCE=2 build/temp.linux-x86_64-3.7/indictrans/_decode/beamsearch.o -o build/lib.linux-x86_64-3.7/indictrans/_decode/beamsearch.cpython-37m-x86_64-linux-gnu.so\n",
            "building 'indictrans._decode.viterbi' extension\n",
            "x86_64-linux-gnu-gcc -pthread -Wno-unused-result -Wsign-compare -DNDEBUG -g -fwrapv -O2 -Wall -g -fdebug-prefix-map=/build/python3.7-pX47U3/python3.7-3.7.12=. -fstack-protector-strong -Wformat -Werror=format-security -g -fdebug-prefix-map=/build/python3.7-pX47U3/python3.7-3.7.12=. -fstack-protector-strong -Wformat -Werror=format-security -Wdate-time -D_FORTIFY_SOURCE=2 -fPIC -I/usr/local/lib/python3.7/dist-packages/numpy/core/include -I/usr/include/python3.7m -c indictrans/_decode/viterbi.c -o build/temp.linux-x86_64-3.7/indictrans/_decode/viterbi.o\n",
            "In file included from \u001b[01m\u001b[K/usr/local/lib/python3.7/dist-packages/numpy/core/include/numpy/ndarraytypes.h:1969:0\u001b[m\u001b[K,\n",
            "                 from \u001b[01m\u001b[K/usr/local/lib/python3.7/dist-packages/numpy/core/include/numpy/ndarrayobject.h:12\u001b[m\u001b[K,\n",
            "                 from \u001b[01m\u001b[K/usr/local/lib/python3.7/dist-packages/numpy/core/include/numpy/arrayobject.h:4\u001b[m\u001b[K,\n",
            "                 from \u001b[01m\u001b[Kindictrans/_decode/viterbi.c:709\u001b[m\u001b[K:\n",
            "\u001b[01m\u001b[K/usr/local/lib/python3.7/dist-packages/numpy/core/include/numpy/npy_1_7_deprecated_api.h:17:2:\u001b[m\u001b[K \u001b[01;35m\u001b[Kwarning: \u001b[m\u001b[K#warning \"Using deprecated NumPy API, disable it with \" \"#define NPY_NO_DEPRECATED_API NPY_1_7_API_VERSION\" [\u001b[01;35m\u001b[K-Wcpp\u001b[m\u001b[K]\n",
            " #\u001b[01;35m\u001b[Kwarning\u001b[m\u001b[K \"Using deprecated NumPy API, disable it with \" \\\n",
            "  \u001b[01;35m\u001b[K^~~~~~~\u001b[m\u001b[K\n",
            "x86_64-linux-gnu-gcc -pthread -shared -Wl,-O1 -Wl,-Bsymbolic-functions -Wl,-Bsymbolic-functions -Wl,-z,relro -Wl,-Bsymbolic-functions -Wl,-z,relro -g -fdebug-prefix-map=/build/python3.7-pX47U3/python3.7-3.7.12=. -fstack-protector-strong -Wformat -Werror=format-security -Wdate-time -D_FORTIFY_SOURCE=2 build/temp.linux-x86_64-3.7/indictrans/_decode/viterbi.o -o build/lib.linux-x86_64-3.7/indictrans/_decode/viterbi.cpython-37m-x86_64-linux-gnu.so\n",
            "building 'indictrans._utils.ctranxn' extension\n",
            "creating build/temp.linux-x86_64-3.7/indictrans/_utils\n",
            "x86_64-linux-gnu-gcc -pthread -Wno-unused-result -Wsign-compare -DNDEBUG -g -fwrapv -O2 -Wall -g -fdebug-prefix-map=/build/python3.7-pX47U3/python3.7-3.7.12=. -fstack-protector-strong -Wformat -Werror=format-security -g -fdebug-prefix-map=/build/python3.7-pX47U3/python3.7-3.7.12=. -fstack-protector-strong -Wformat -Werror=format-security -Wdate-time -D_FORTIFY_SOURCE=2 -fPIC -I/usr/local/lib/python3.7/dist-packages/numpy/core/include -I/usr/include/python3.7m -c indictrans/_utils/ctranxn.c -o build/temp.linux-x86_64-3.7/indictrans/_utils/ctranxn.o\n",
            "In file included from \u001b[01m\u001b[K/usr/local/lib/python3.7/dist-packages/numpy/core/include/numpy/ndarraytypes.h:1969:0\u001b[m\u001b[K,\n",
            "                 from \u001b[01m\u001b[K/usr/local/lib/python3.7/dist-packages/numpy/core/include/numpy/ndarrayobject.h:12\u001b[m\u001b[K,\n",
            "                 from \u001b[01m\u001b[K/usr/local/lib/python3.7/dist-packages/numpy/core/include/numpy/arrayobject.h:4\u001b[m\u001b[K,\n",
            "                 from \u001b[01m\u001b[Kindictrans/_utils/ctranxn.c:617\u001b[m\u001b[K:\n",
            "\u001b[01m\u001b[K/usr/local/lib/python3.7/dist-packages/numpy/core/include/numpy/npy_1_7_deprecated_api.h:17:2:\u001b[m\u001b[K \u001b[01;35m\u001b[Kwarning: \u001b[m\u001b[K#warning \"Using deprecated NumPy API, disable it with \" \"#define NPY_NO_DEPRECATED_API NPY_1_7_API_VERSION\" [\u001b[01;35m\u001b[K-Wcpp\u001b[m\u001b[K]\n",
            " #\u001b[01;35m\u001b[Kwarning\u001b[m\u001b[K \"Using deprecated NumPy API, disable it with \" \\\n",
            "  \u001b[01;35m\u001b[K^~~~~~~\u001b[m\u001b[K\n",
            "creating build/lib.linux-x86_64-3.7/indictrans/_utils\n",
            "x86_64-linux-gnu-gcc -pthread -shared -Wl,-O1 -Wl,-Bsymbolic-functions -Wl,-Bsymbolic-functions -Wl,-z,relro -Wl,-Bsymbolic-functions -Wl,-z,relro -g -fdebug-prefix-map=/build/python3.7-pX47U3/python3.7-3.7.12=. -fstack-protector-strong -Wformat -Werror=format-security -Wdate-time -D_FORTIFY_SOURCE=2 build/temp.linux-x86_64-3.7/indictrans/_utils/ctranxn.o -o build/lib.linux-x86_64-3.7/indictrans/_utils/ctranxn.cpython-37m-x86_64-linux-gnu.so\n",
            "building 'indictrans._utils.sparseadd' extension\n",
            "x86_64-linux-gnu-gcc -pthread -Wno-unused-result -Wsign-compare -DNDEBUG -g -fwrapv -O2 -Wall -g -fdebug-prefix-map=/build/python3.7-pX47U3/python3.7-3.7.12=. -fstack-protector-strong -Wformat -Werror=format-security -g -fdebug-prefix-map=/build/python3.7-pX47U3/python3.7-3.7.12=. -fstack-protector-strong -Wformat -Werror=format-security -Wdate-time -D_FORTIFY_SOURCE=2 -fPIC -I/usr/local/lib/python3.7/dist-packages/numpy/core/include -I/usr/include/python3.7m -c indictrans/_utils/sparseadd.c -o build/temp.linux-x86_64-3.7/indictrans/_utils/sparseadd.o\n",
            "In file included from \u001b[01m\u001b[K/usr/local/lib/python3.7/dist-packages/numpy/core/include/numpy/ndarraytypes.h:1969:0\u001b[m\u001b[K,\n",
            "                 from \u001b[01m\u001b[K/usr/local/lib/python3.7/dist-packages/numpy/core/include/numpy/ndarrayobject.h:12\u001b[m\u001b[K,\n",
            "                 from \u001b[01m\u001b[K/usr/local/lib/python3.7/dist-packages/numpy/core/include/numpy/arrayobject.h:4\u001b[m\u001b[K,\n",
            "                 from \u001b[01m\u001b[Kindictrans/_utils/sparseadd.c:617\u001b[m\u001b[K:\n",
            "\u001b[01m\u001b[K/usr/local/lib/python3.7/dist-packages/numpy/core/include/numpy/npy_1_7_deprecated_api.h:17:2:\u001b[m\u001b[K \u001b[01;35m\u001b[Kwarning: \u001b[m\u001b[K#warning \"Using deprecated NumPy API, disable it with \" \"#define NPY_NO_DEPRECATED_API NPY_1_7_API_VERSION\" [\u001b[01;35m\u001b[K-Wcpp\u001b[m\u001b[K]\n",
            " #\u001b[01;35m\u001b[Kwarning\u001b[m\u001b[K \"Using deprecated NumPy API, disable it with \" \\\n",
            "  \u001b[01;35m\u001b[K^~~~~~~\u001b[m\u001b[K\n",
            "x86_64-linux-gnu-gcc -pthread -shared -Wl,-O1 -Wl,-Bsymbolic-functions -Wl,-Bsymbolic-functions -Wl,-z,relro -Wl,-Bsymbolic-functions -Wl,-z,relro -g -fdebug-prefix-map=/build/python3.7-pX47U3/python3.7-3.7.12=. -fstack-protector-strong -Wformat -Werror=format-security -Wdate-time -D_FORTIFY_SOURCE=2 build/temp.linux-x86_64-3.7/indictrans/_utils/sparseadd.o -o build/lib.linux-x86_64-3.7/indictrans/_utils/sparseadd.cpython-37m-x86_64-linux-gnu.so\n",
            "copying build/lib.linux-x86_64-3.7/indictrans/_decode/beamsearch.cpython-37m-x86_64-linux-gnu.so -> indictrans/_decode\n",
            "copying build/lib.linux-x86_64-3.7/indictrans/_decode/viterbi.cpython-37m-x86_64-linux-gnu.so -> indictrans/_decode\n",
            "copying build/lib.linux-x86_64-3.7/indictrans/_utils/ctranxn.cpython-37m-x86_64-linux-gnu.so -> indictrans/_utils\n",
            "copying build/lib.linux-x86_64-3.7/indictrans/_utils/sparseadd.cpython-37m-x86_64-linux-gnu.so -> indictrans/_utils\n"
          ]
        }
      ]
    },
    {
      "cell_type": "code",
      "metadata": {
        "id": "K1LiiO15_cpY"
      },
      "source": [
        "from indictrans import Transliterator\n",
        "trn = Transliterator(source='eng', target='hin', build_lookup=True)"
      ],
      "execution_count": null,
      "outputs": []
    },
    {
      "cell_type": "code",
      "metadata": {
        "id": "BI0aYdxMjB-h"
      },
      "source": [
        "import re"
      ],
      "execution_count": null,
      "outputs": []
    },
    {
      "cell_type": "code",
      "source": [
        ""
      ],
      "metadata": {
        "id": "UkpO2nHo7opm"
      },
      "execution_count": null,
      "outputs": []
    },
    {
      "cell_type": "code",
      "metadata": {
        "id": "OqC4Zk_kAEoz"
      },
      "source": [
        "for i in train.Text.values:\n",
        "  try:\n",
        "    isEng = detect_language(i)\n",
        "    if isEng == \"English\":\n",
        "      train['Text'].replace(i,trn.transform(i),inplace = True)\n",
        "  except:\n",
        "    train['Text'].replace(i,i,inplace = True)"
      ],
      "execution_count": null,
      "outputs": []
    },
    {
      "cell_type": "code",
      "source": [
        "for i in testt.Text.values:\n",
        "  try:\n",
        "    isEng = detect_language(i)\n",
        "    if isEng == \"English\":\n",
        "      testt['Text'].replace(i,trn.transform(i),inplace = True)\n",
        "  except:\n",
        "    testt['Text'].replace(i,i,inplace = True)"
      ],
      "metadata": {
        "id": "_Wwng9Nx61Q9"
      },
      "execution_count": null,
      "outputs": []
    },
    {
      "cell_type": "code",
      "source": [
        ""
      ],
      "metadata": {
        "id": "xqYPKt-K61IW"
      },
      "execution_count": null,
      "outputs": []
    },
    {
      "cell_type": "code",
      "metadata": {
        "id": "ls3gabVwVxZo"
      },
      "source": [
        "import tokenizers"
      ],
      "execution_count": null,
      "outputs": []
    },
    {
      "cell_type": "code",
      "metadata": {
        "id": "LQZizMIGWM5O"
      },
      "source": [
        "sample_txt = 'Yeh ek vkya hai'"
      ],
      "execution_count": null,
      "outputs": []
    },
    {
      "cell_type": "code",
      "metadata": {
        "colab": {
          "base_uri": "https://localhost:8080/"
        },
        "id": "pRRJJNv7V4o1",
        "outputId": "129c623c-7fc8-4fca-ee23-e803a6f979be"
      },
      "source": [
        "tokens = tokenizer.tokenize(sample_txt)\n",
        "token_ids = tokenizer.convert_tokens_to_ids(tokens)\n",
        "\n",
        "print(f' Sentence: {sample_txt}')\n",
        "print(f'   Tokens: {tokens}')\n",
        "print(f'Token IDs: {token_ids}')"
      ],
      "execution_count": null,
      "outputs": [
        {
          "output_type": "stream",
          "name": "stdout",
          "text": [
            " Sentence: Yeh ek vkya hai\n",
            "   Tokens: ['▁ye', 'h', '▁', 'ek', '▁v', 'kya', '▁hai']\n",
            "Token IDs: [121067, 3343, 8, 19216, 10048, 107553, 31279]\n"
          ]
        }
      ]
    },
    {
      "cell_type": "code",
      "metadata": {
        "colab": {
          "base_uri": "https://localhost:8080/"
        },
        "id": "Haabt4pGV-LR",
        "outputId": "1c2c0302-0e01-4b96-ac49-94866336319b"
      },
      "source": [
        "tokenizer.sep_token, tokenizer.sep_token_id"
      ],
      "execution_count": null,
      "outputs": [
        {
          "output_type": "execute_result",
          "data": {
            "text/plain": [
              "('[SEP]', 3)"
            ]
          },
          "metadata": {},
          "execution_count": 37
        }
      ]
    },
    {
      "cell_type": "code",
      "metadata": {
        "colab": {
          "base_uri": "https://localhost:8080/"
        },
        "id": "-65CGkMgWpcv",
        "outputId": "7ae2cf9c-65f2-48e2-93e9-b0eb87ec752d"
      },
      "source": [
        "encoding = tokenizer.encode_plus(\n",
        "  sample_txt,\n",
        "  max_length=90,\n",
        "  add_special_tokens=True, # Add '[CLS]' and '[SEP]'\n",
        "  return_token_type_ids=False,\n",
        "  pad_to_max_length=True,\n",
        "  return_attention_mask=True,\n",
        "  return_tensors='pt',  # Return PyTorch tensors\n",
        ")\n",
        "\n",
        "encoding.keys()"
      ],
      "execution_count": null,
      "outputs": [
        {
          "output_type": "stream",
          "name": "stderr",
          "text": [
            "Truncation was not explicitly activated but `max_length` is provided a specific value, please use `truncation=True` to explicitly truncate examples to max length. Defaulting to 'longest_first' truncation strategy. If you encode pairs of sequences (GLUE-style) with the tokenizer you can select this strategy more precisely by providing a specific strategy to `truncation`.\n"
          ]
        },
        {
          "output_type": "execute_result",
          "data": {
            "text/plain": [
              "dict_keys(['input_ids', 'attention_mask'])"
            ]
          },
          "metadata": {},
          "execution_count": 38
        }
      ]
    },
    {
      "cell_type": "code",
      "metadata": {
        "id": "SPpgnqMzW2zH"
      },
      "source": [
        "token_lens = []\n",
        "\n",
        "for txt in train.Text:\n",
        "  tokens = tokenizer.encode(txt,truncation=True, max_length=512)\n",
        "  token_lens.append(len(tokens))"
      ],
      "execution_count": null,
      "outputs": []
    },
    {
      "cell_type": "code",
      "metadata": {
        "colab": {
          "base_uri": "https://localhost:8080/",
          "height": 506
        },
        "id": "pdmgKvZAW_gR",
        "outputId": "4f315d2a-df93-4596-a1da-b8e4392cfe0a"
      },
      "source": [
        "sns.distplot(token_lens)\n",
        "plt.xlim([0, 140]);\n",
        "plt.xlabel('Token count');"
      ],
      "execution_count": null,
      "outputs": [
        {
          "output_type": "display_data",
          "data": {
            "text/plain": [
              "<Figure size 864x576 with 1 Axes>"
            ],
            "image/png": "[encoded data removed]"
          },
          "metadata": {
            "image/png": {
              "width": 761,
              "height": 489
            }
          }
        }
      ]
    },
    {
      "cell_type": "code",
      "metadata": {
        "id": "_GHC_R0LXGjE"
      },
      "source": [
        "MAX_LEN = 72"
      ],
      "execution_count": null,
      "outputs": []
    },
    {
      "cell_type": "code",
      "metadata": {
        "id": "ooTxV_VY4iGg"
      },
      "source": [
        "MAX_LEN = 64"
      ],
      "execution_count": null,
      "outputs": []
    },
    {
      "cell_type": "code",
      "metadata": {
        "id": "BEzkIVxh5wcK"
      },
      "source": [
        "MAX_LEN = 36"
      ],
      "execution_count": null,
      "outputs": []
    },
    {
      "cell_type": "code",
      "metadata": {
        "id": "LZXvkOGy_ywD"
      },
      "source": [
        "MAX_LEN = 54"
      ],
      "execution_count": null,
      "outputs": []
    },
    {
      "cell_type": "code",
      "metadata": {
        "id": "ZlWYBuSyXZ05"
      },
      "source": [
        "class GPReviewDataset(Dataset):\n",
        "  def __init__(self, Text, Label, tokenizer, max_len):\n",
        "    self.Text = Text\n",
        "    self.Label = Label\n",
        "    self.tokenizer = tokenizer\n",
        "    self.max_len = max_len\n",
        "  def __len__(self):\n",
        "    return len(self.Text)\n",
        "  def __getitem__(self, item):\n",
        "    Text = str(self.Text[item])\n",
        "    Label = self.Label[item]\n",
        "    encoding = self.tokenizer.encode_plus(\n",
        "      Text,\n",
        "      add_special_tokens=True,\n",
        "      max_length=self.max_len,\n",
        "      return_token_type_ids=False,\n",
        "      pad_to_max_length=True,\n",
        "      return_attention_mask=True,\n",
        "      truncation=True,\n",
        "      return_tensors='pt',\n",
        "    )\n",
        "    return {\n",
        "      'text': Text,\n",
        "      'input_ids': encoding['input_ids'].flatten(),\n",
        "      'attention_mask': encoding['attention_mask'].flatten(),\n",
        "      'Label': torch.tensor(Label, dtype=torch.long)\n",
        "    }"
      ],
      "execution_count": null,
      "outputs": []
    },
    {
      "cell_type": "code",
      "metadata": {
        "id": "o1okDZUFNPch"
      },
      "source": [
        "# df_train, df_val = train_test_split(\n",
        "#   train_new,\n",
        "#   test_size=0.001,\n",
        "#   stratify = train_new.Label.values,\n",
        "#   random_state=42\n",
        "# )\n",
        "# # df_val, df_test = train_test_split(\n",
        "# #   df_test,\n",
        "# #   test_size=0.08,\n",
        "# #   stratify = df_test.Label.values,\n",
        "# #   random_state=42\n",
        "# # )\n",
        "# df_train.shape, df_val.shape"
      ],
      "execution_count": null,
      "outputs": []
    },
    {
      "cell_type": "code",
      "metadata": {
        "colab": {
          "base_uri": "https://localhost:8080/"
        },
        "id": "mDLDLJTQXw1D",
        "outputId": "6a04c171-38f3-4186-ff98-e3231d7cd119"
      },
      "source": [
        "df_train, df_val = train_test_split(\n",
        "  train,\n",
        "  test_size=0.20,\n",
        "  stratify = train.Label.values,\n",
        "  random_state=42\n",
        ")\n",
        "df_val, df_test = train_test_split(\n",
        "  df_val,\n",
        "  test_size=0.50,\n",
        "  stratify = df_val.Label.values,\n",
        "  random_state=42\n",
        ")\n",
        "\n",
        "\n",
        "df_train.shape, df_val.shape"
      ],
      "execution_count": null,
      "outputs": [
        {
          "output_type": "execute_result",
          "data": {
            "text/plain": [
              "((3187, 2), (398, 2))"
            ]
          },
          "metadata": {},
          "execution_count": 44
        }
      ]
    },
    {
      "cell_type": "code",
      "metadata": {
        "id": "pjUN8P4574Im"
      },
      "source": [
        "\n",
        "# df_train.to_csv(\"df_train_0.02.csv\")\n",
        "# df_val.to_csv(\"df_val_0.02.csv\") \n",
        "# df_test.to_csv(\"df_test_0.02.csv\")"
      ],
      "execution_count": null,
      "outputs": []
    },
    {
      "cell_type": "code",
      "metadata": {
        "id": "iju8tFSSX7mi"
      },
      "source": [
        "def create_data_loader(df, tokenizer, max_len, batch_size):\n",
        "  ds = GPReviewDataset(\n",
        "    Text=df.Text.to_numpy(),\n",
        "    Label=df.Label.to_numpy(),\n",
        "    tokenizer=tokenizer,\n",
        "    max_len=max_len\n",
        "  )\n",
        "  return DataLoader(\n",
        "    ds,\n",
        "    batch_size=batch_size,\n",
        "    num_workers=4\n",
        "  )"
      ],
      "execution_count": null,
      "outputs": []
    },
    {
      "cell_type": "code",
      "metadata": {
        "id": "a6vFQ0QNYDbQ"
      },
      "source": [
        "BATCH_SIZE = 64\n",
        "train_data_loader = create_data_loader(df_train, tokenizer, MAX_LEN, BATCH_SIZE)\n",
        "val_data_loader = create_data_loader(df_val, tokenizer, MAX_LEN, BATCH_SIZE)\n",
        "# test_data_loader = create_data_loader(df_test, tokenizer, MAX_LEN, BATCH_SIZE)"
      ],
      "execution_count": null,
      "outputs": []
    },
    {
      "cell_type": "code",
      "metadata": {
        "id": "6HiUX7ioYYEF"
      },
      "source": [
        "\n",
        "\n",
        "# data = next(iter(train_data_loader))\n",
        "# data.keys()"
      ],
      "execution_count": null,
      "outputs": []
    },
    {
      "cell_type": "code",
      "metadata": {
        "id": "IdFKx4kFYOsn"
      },
      "source": [
        "# data = next(iter(train_data_loader))\n",
        "# data.keys()\n",
        "# print(data['input_ids'].shape)\n",
        "# print(data['attention_mask'].shape)\n",
        "# print(data['Label'].shape)"
      ],
      "execution_count": null,
      "outputs": []
    },
    {
      "cell_type": "code",
      "metadata": {
        "id": "_AJ1yKQUYUA5"
      },
      "source": [
        "class SentimentClassifier(nn.Module):\n",
        "  def __init__(self, n_classes):\n",
        "    super(SentimentClassifier, self).__init__()\n",
        "    self.bert = AutoModel.from_pretrained('ai4bharat/indic-bert')\n",
        "    \n",
        "    self.drop = nn.Dropout(p=0.33)\n",
        "    self.out = nn.Linear(self.bert.config.hidden_size, n_classes)\n",
        "  def forward(self, input_ids, attention_mask):\n",
        "    _, pooled_output = self.bert(\n",
        "      input_ids=input_ids,\n",
        "      attention_mask=attention_mask,\n",
        "      return_dict=False)\n",
        "    output = self.drop(pooled_output)\n",
        "    return self.out(output)"
      ],
      "execution_count": null,
      "outputs": []
    },
    {
      "cell_type": "code",
      "metadata": {
        "id": "C1UDBycgPTVX"
      },
      "source": [
        "import gc"
      ],
      "execution_count": null,
      "outputs": []
    },
    {
      "cell_type": "code",
      "metadata": {
        "id": "sfoguHZKElGA"
      },
      "source": [
        "# bert = BertModel.from_pretrained('/content/pytorch')\n",
        "# conv = nn.Conv2d(in_channels=13, out_channels=13, kernel_size=(3, 768), padding=True)\n",
        "# relu = nn.ReLU()\n",
        "# pool = nn.MaxPool2d(kernel_size=3, stride=1)\n",
        "# dropout = nn.Dropout(0.1)\n",
        "# fc = nn.Linear(676, 3) # before : 442 with max_length 36 # 806 with max_length 64 1534 for 120 676 for 54\n",
        "# flat = nn.Flatten()\n",
        "# softmax = nn.LogSoftmax(dim=1)"
      ],
      "execution_count": null,
      "outputs": []
    },
    {
      "cell_type": "code",
      "metadata": {
        "id": "e-ceaCgK__qW"
      },
      "source": [
        "# input_ids = data['input_ids']\n",
        "\n",
        "# attention_mask = data['attention_mask']\n",
        "\n",
        "# _,_,output = bert(input_ids = input_ids, attention_mask=attention_mask, output_hidden_states=True)\n",
        "\n",
        "# x = torch.transpose(torch.cat(tuple([t.unsqueeze(0) for t in output]), 0), 0, 1)\n",
        "\n",
        "\n",
        "# x = dropout(x)\n",
        "\n",
        "# x = conv(x)\n",
        "\n",
        "\n",
        "# # x= pool(x)\n",
        "\n",
        "\n",
        "# flat = nn.Flatten()\n",
        "\n",
        "# flat(x).size()"
      ],
      "execution_count": null,
      "outputs": []
    },
    {
      "cell_type": "code",
      "metadata": {
        "id": "X5vm7Q0MHUQ2"
      },
      "source": [
        "# class BERT_Arch(nn.Module):\n",
        "\n",
        "#     def __init__(self, bert):\n",
        "#         super(BERT_Arch, self).__init__()\n",
        "#         self.bert = BertModel.from_pretrained('/content/pytorch')\n",
        "#         self.conv = nn.Conv2d(in_channels=13, out_channels=13, kernel_size=(3, 768), padding=True)\n",
        "#         self.relu = nn.ReLU()\n",
        "#         self.pool = nn.MaxPool2d(kernel_size=3, stride=1)\n",
        "#         self.dropout = nn.Dropout(0.20)\n",
        "#         self.fc = nn.Linear(442, 3) # before : 442 with max_length 36 # 806 with max_length 64 1534 for 120 676 for 54\n",
        "#         self.flat = nn.Flatten()\n",
        "#         self.softmax = nn.Softmax(dim=1)\n",
        "\n",
        "#     def forward(self, input_ids, attention_mask):\n",
        "#         _,_, all_layers = self.bert(input_ids = input_ids, attention_mask=attention_mask, output_hidden_states=True)\n",
        "#         # all_layers  = [13, 32, 64, 768]\n",
        "#         x = torch.transpose(torch.cat(tuple([t.unsqueeze(0) for t in all_layers]), 0), 0, 1)\n",
        "#         del all_layers\n",
        "#         gc.collect()\n",
        "#         torch.cuda.empty_cache()\n",
        "#         x = self.pool(self.dropout(self.relu(self.conv(self.dropout(x)))))\n",
        "#         x = self.fc(self.dropout(self.flat(self.dropout(x))))\n",
        "#         return self.softmax(x)"
      ],
      "execution_count": null,
      "outputs": []
    },
    {
      "cell_type": "code",
      "metadata": {
        "id": "HuWcIWfIR7F2"
      },
      "source": [
        "# class BERT_Arch(nn.Module):\n",
        "\n",
        "#     def __init__(self, bert):\n",
        "#         super(BERT_Arch, self).__init__()\n",
        "#         self.bert = BertModel.from_pretrained('/content/pytorch')\n",
        "#         self.conv = nn.Conv2d(in_channels=13, out_channels=13, kernel_size=(3, 768), padding=True)\n",
        "#         self.relu = nn.ReLU()\n",
        "#         self.pool = nn.MaxPool2d(kernel_size=3, stride=1)\n",
        "#         self.dropout = nn.Dropout(0.15)\n",
        "#         self.fc = nn.Linear(2496, 3) # before : 442 with max_length 36 # 806 with max_length 64 1534 for 120 676 for 54\n",
        "#         self.flat = nn.Flatten()\n",
        "#         self.softmax = nn.Softmax(dim=1)\n",
        "\n",
        "#     def forward(self, input_ids, attention_mask):\n",
        "#         _,_, all_layers = self.bert(input_ids = input_ids, attention_mask=attention_mask, output_hidden_states=True)\n",
        "#         # all_layers  = [13, 32, 64, 768]\n",
        "#         x = torch.transpose(torch.cat(tuple([t.unsqueeze(0) for t in all_layers]), 0), 0, 1)\n",
        "#         del all_layers\n",
        "#         gc.collect()\n",
        "#         torch.cuda.empty_cache()\n",
        "#         x = self.dropout(self.relu(self.conv(self.dropout(x))))\n",
        "#         x = self.fc(self.dropout(self.flat(self.dropout(x))))\n",
        "#         return self.softmax(x)"
      ],
      "execution_count": null,
      "outputs": []
    },
    {
      "cell_type": "code",
      "source": [
        "train.head()"
      ],
      "metadata": {
        "id": "G5DNoHa98IrQ",
        "outputId": "5b091d0f-6232-4c41-cc4b-db3e131ab7f4",
        "colab": {
          "base_uri": "https://localhost:8080/",
          "height": 206
        }
      },
      "execution_count": null,
      "outputs": [
        {
          "output_type": "execute_result",
          "data": {
            "text/plain": [
              "                                                Text  Label\n",
              "0  बॉलिवुड फिल्म देखने के समय लॉजिक घर मैं चोरके ...      1\n",
              "1                                             चुटिया      1\n",
              "2  उस जात बन्दे का खेने का मतलब था मार डालुगा उसे...      2\n",
              "3  इस कन्सर फेमिनिस्ट यह सही हैं बुत इसका मतलब ये...      2\n",
              "4       अमृत आनंद अब तो जुड़े ही है उनको बोलो जुड़ने      1"
            ],
            "text/html": [
              "\n",
              "  <div id=\"df-b3318359-fcb9-441a-a4a4-41f12b824bcd\">\n",
              "    <div class=\"colab-df-container\">\n",
              "      <div>\n",
              "<style scoped>\n",
              "    .dataframe tbody tr th:only-of-type {\n",
              "        vertical-align: middle;\n",
              "    }\n",
              "\n",
              "    .dataframe tbody tr th {\n",
              "        vertical-align: top;\n",
              "    }\n",
              "\n",
              "    .dataframe thead th {\n",
              "        text-align: right;\n",
              "    }\n",
              "</style>\n",
              "<table border=\"1\" class=\"dataframe\">\n",
              "  <thead>\n",
              "    <tr style=\"text-align: right;\">\n",
              "      <th></th>\n",
              "      <th>Text</th>\n",
              "      <th>Label</th>\n",
              "    </tr>\n",
              "  </thead>\n",
              "  <tbody>\n",
              "    <tr>\n",
              "      <th>0</th>\n",
              "      <td>बॉलिवुड फिल्म देखने के समय लॉजिक घर मैं चोरके ...</td>\n",
              "      <td>1</td>\n",
              "    </tr>\n",
              "    <tr>\n",
              "      <th>1</th>\n",
              "      <td>चुटिया</td>\n",
              "      <td>1</td>\n",
              "    </tr>\n",
              "    <tr>\n",
              "      <th>2</th>\n",
              "      <td>उस जात बन्दे का खेने का मतलब था मार डालुगा उसे...</td>\n",
              "      <td>2</td>\n",
              "    </tr>\n",
              "    <tr>\n",
              "      <th>3</th>\n",
              "      <td>इस कन्सर फेमिनिस्ट यह सही हैं बुत इसका मतलब ये...</td>\n",
              "      <td>2</td>\n",
              "    </tr>\n",
              "    <tr>\n",
              "      <th>4</th>\n",
              "      <td>अमृत आनंद अब तो जुड़े ही है उनको बोलो जुड़ने</td>\n",
              "      <td>1</td>\n",
              "    </tr>\n",
              "  </tbody>\n",
              "</table>\n",
              "</div>\n",
              "      <button class=\"colab-df-convert\" onclick=\"convertToInteractive('df-b3318359-fcb9-441a-a4a4-41f12b824bcd')\"\n",
              "              title=\"Convert this dataframe to an interactive table.\"\n",
              "              style=\"display:none;\">\n",
              "        \n",
              "  <svg xmlns=\"http://www.w3.org/2000/svg\" height=\"24px\"viewBox=\"0 0 24 24\"\n",
              "       width=\"24px\">\n",
              "    <path d=\"M0 0h24v24H0V0z\" fill=\"none\"/>\n",
              "    <path d=\"M18.56 5.44l.94 2.06.94-2.06 2.06-.94-2.06-.94-.94-2.06-.94 2.06-2.06.94zm-11 1L8.5 8.5l.94-2.06 2.06-.94-2.06-.94L8.5 2.5l-.94 2.06-2.06.94zm10 10l.94 2.06.94-2.06 2.06-.94-2.06-.94-.94-2.06-.94 2.06-2.06.94z\"/><path d=\"M17.41 7.96l-1.37-1.37c-.4-.4-.92-.59-1.43-.59-.52 0-1.04.2-1.43.59L10.3 9.45l-7.72 7.72c-.78.78-.78 2.05 0 2.83L4 21.41c.39.39.9.59 1.41.59.51 0 1.02-.2 1.41-.59l7.78-7.78 2.81-2.81c.8-.78.8-2.07 0-2.86zM5.41 20L4 18.59l7.72-7.72 1.47 1.35L5.41 20z\"/>\n",
              "  </svg>\n",
              "      </button>\n",
              "      \n",
              "  <style>\n",
              "    .colab-df-container {\n",
              "      display:flex;\n",
              "      flex-wrap:wrap;\n",
              "      gap: 12px;\n",
              "    }\n",
              "\n",
              "    .colab-df-convert {\n",
              "      background-color: #E8F0FE;\n",
              "      border: none;\n",
              "      border-radius: 50%;\n",
              "      cursor: pointer;\n",
              "      display: none;\n",
              "      fill: #1967D2;\n",
              "      height: 32px;\n",
              "      padding: 0 0 0 0;\n",
              "      width: 32px;\n",
              "    }\n",
              "\n",
              "    .colab-df-convert:hover {\n",
              "      background-color: #E2EBFA;\n",
              "      box-shadow: 0px 1px 2px rgba(60, 64, 67, 0.3), 0px 1px 3px 1px rgba(60, 64, 67, 0.15);\n",
              "      fill: #174EA6;\n",
              "    }\n",
              "\n",
              "    [theme=dark] .colab-df-convert {\n",
              "      background-color: #3B4455;\n",
              "      fill: #D2E3FC;\n",
              "    }\n",
              "\n",
              "    [theme=dark] .colab-df-convert:hover {\n",
              "      background-color: #434B5C;\n",
              "      box-shadow: 0px 1px 3px 1px rgba(0, 0, 0, 0.15);\n",
              "      filter: drop-shadow(0px 1px 2px rgba(0, 0, 0, 0.3));\n",
              "      fill: #FFFFFF;\n",
              "    }\n",
              "  </style>\n",
              "\n",
              "      <script>\n",
              "        const buttonEl =\n",
              "          document.querySelector('#df-b3318359-fcb9-441a-a4a4-41f12b824bcd button.colab-df-convert');\n",
              "        buttonEl.style.display =\n",
              "          google.colab.kernel.accessAllowed ? 'block' : 'none';\n",
              "\n",
              "        async function convertToInteractive(key) {\n",
              "          const element = document.querySelector('#df-b3318359-fcb9-441a-a4a4-41f12b824bcd');\n",
              "          const dataTable =\n",
              "            await google.colab.kernel.invokeFunction('convertToInteractive',\n",
              "                                                     [key], {});\n",
              "          if (!dataTable) return;\n",
              "\n",
              "          const docLinkHtml = 'Like what you see? Visit the ' +\n",
              "            '<a target=\"_blank\" href=https://colab.research.google.com/notebooks/data_table.ipynb>data table notebook</a>'\n",
              "            + ' to learn more about interactive tables.';\n",
              "          element.innerHTML = '';\n",
              "          dataTable['output_type'] = 'display_data';\n",
              "          await google.colab.output.renderOutput(dataTable, element);\n",
              "          const docLink = document.createElement('div');\n",
              "          docLink.innerHTML = docLinkHtml;\n",
              "          element.appendChild(docLink);\n",
              "        }\n",
              "      </script>\n",
              "    </div>\n",
              "  </div>\n",
              "  "
            ]
          },
          "metadata": {},
          "execution_count": 52
        }
      ]
    },
    {
      "cell_type": "code",
      "source": [
        "train['Label'].value_counts()"
      ],
      "metadata": {
        "id": "C98hBkn68Mku",
        "outputId": "9d7b21b3-8309-41e3-8498-3e094c789ca4",
        "colab": {
          "base_uri": "https://localhost:8080/"
        }
      },
      "execution_count": null,
      "outputs": [
        {
          "output_type": "execute_result",
          "data": {
            "text/plain": [
              "1    2245\n",
              "2     910\n",
              "0     829\n",
              "Name: Label, dtype: int64"
            ]
          },
          "metadata": {},
          "execution_count": 53
        }
      ]
    },
    {
      "cell_type": "code",
      "metadata": {
        "id": "QQZscfPBZfyE"
      },
      "source": [
        "n_classes = 3\n",
        "class_names = ['0','1','2']"
      ],
      "execution_count": null,
      "outputs": []
    },
    {
      "cell_type": "code",
      "metadata": {
        "id": "PjCXwEZdaTX6",
        "colab": {
          "base_uri": "https://localhost:8080/"
        },
        "outputId": "e1cff4c6-e2b7-44d9-c63c-aadd3608ed4e"
      },
      "source": [
        "\n",
        "modell = SentimentClassifier(len(class_names))\n",
        "modell = modell.to(device)"
      ],
      "execution_count": null,
      "outputs": [
        {
          "output_type": "stream",
          "name": "stderr",
          "text": [
            "Some weights of the model checkpoint at ai4bharat/indic-bert were not used when initializing AlbertModel: ['predictions.LayerNorm.weight', 'predictions.dense.weight', 'predictions.LayerNorm.bias', 'predictions.decoder.weight', 'sop_classifier.classifier.weight', 'sop_classifier.classifier.bias', 'predictions.bias', 'predictions.dense.bias', 'predictions.decoder.bias']\n",
            "- This IS expected if you are initializing AlbertModel from the checkpoint of a model trained on another task or with another architecture (e.g. initializing a BertForSequenceClassification model from a BertForPreTraining model).\n",
            "- This IS NOT expected if you are initializing AlbertModel from the checkpoint of a model that you expect to be exactly identical (initializing a BertForSequenceClassification model from a BertForSequenceClassification model).\n"
          ]
        }
      ]
    },
    {
      "cell_type": "code",
      "metadata": {
        "id": "9gqYU8y_njQH"
      },
      "source": [
        "\n",
        "\n",
        "import math"
      ],
      "execution_count": null,
      "outputs": []
    },
    {
      "cell_type": "code",
      "metadata": {
        "id": "N0DtHCT_aoxo"
      },
      "source": [
        "EPOCHS = 3\n",
        "optimizer = AdamW(modell.parameters(), lr=2e-5, correct_bias=True)\n",
        "total_steps = len(train_data_loader) * EPOCHS\n",
        "scheduler = get_linear_schedule_with_warmup(\n",
        "  optimizer,\n",
        "  num_warmup_steps=0,\n",
        "  num_training_steps=total_steps\n",
        ")"
      ],
      "execution_count": null,
      "outputs": []
    },
    {
      "cell_type": "code",
      "metadata": {
        "id": "SztLWJifbD7B"
      },
      "source": [
        ""
      ],
      "execution_count": null,
      "outputs": []
    },
    {
      "cell_type": "code",
      "metadata": {
        "id": "VetywPpuayle"
      },
      "source": [
        "loss_fn = nn.CrossEntropyLoss().to(device)"
      ],
      "execution_count": null,
      "outputs": []
    },
    {
      "cell_type": "code",
      "metadata": {
        "id": "a0QHm1uea2E3"
      },
      "source": [
        "\n",
        "def train_epoch(\n",
        "  modell,\n",
        "  data_loader,\n",
        "  loss_fn,\n",
        "  optimizer,\n",
        "  device,\n",
        "  scheduler,\n",
        "  n_examples):\n",
        "  modell = modell.train()\n",
        "  losses = []\n",
        "  correct_predictions = 0\n",
        "  for d in data_loader:\n",
        "    input_ids = d[\"input_ids\"].to(device)\n",
        "    attention_mask = d[\"attention_mask\"].to(device)\n",
        "    Label = d[\"Label\"].to(device)\n",
        "    outputs = modell(\n",
        "      input_ids=input_ids,\n",
        "      attention_mask=attention_mask\n",
        "    )\n",
        "    \n",
        "    _, preds = torch.max(outputs, dim=1)\n",
        "    loss = loss_fn(outputs, Label)\n",
        "    correct_predictions += torch.sum(preds == Label)\n",
        "    losses.append(loss.item())\n",
        "    loss.backward()\n",
        "    nn.utils.clip_grad_norm_(modell.parameters(), max_norm=1.0)\n",
        "    optimizer.step()\n",
        "    scheduler.step()\n",
        "    optimizer.zero_grad()\n",
        "  return correct_predictions.double() / n_examples, np.mean(losses)"
      ],
      "execution_count": null,
      "outputs": []
    },
    {
      "cell_type": "code",
      "metadata": {
        "id": "UEDEORvKa-R5"
      },
      "source": [
        "def eval_model(modell, data_loader, loss_fn, device, n_examples):\n",
        "  modell = modell.eval()\n",
        "  losses = []\n",
        "  correct_predictions = 0\n",
        "  with torch.no_grad():\n",
        "    for d in data_loader:\n",
        "      input_ids = d[\"input_ids\"].to(device)\n",
        "      attention_mask = d[\"attention_mask\"].to(device)\n",
        "      Label = d[\"Label\"].to(device)\n",
        "      outputs = modell(\n",
        "        input_ids=input_ids,\n",
        "        attention_mask=attention_mask\n",
        "      )\n",
        "      _, preds = torch.max(outputs, dim=1)\n",
        "      loss = loss_fn(outputs, Label)\n",
        "      correct_predictions += torch.sum(preds == Label)\n",
        "      losses.append(loss.item())\n",
        "  return correct_predictions.double() / n_examples, np.mean(losses)"
      ],
      "execution_count": null,
      "outputs": []
    },
    {
      "cell_type": "code",
      "metadata": {
        "colab": {
          "base_uri": "https://localhost:8080/"
        },
        "id": "7XVQzn-SbBuF",
        "outputId": "25457c38-d97c-4400-fbbe-fc6a0b16bc3b"
      },
      "source": [
        "\n",
        "%%time\n",
        "history = defaultdict(list)\n",
        "best_accuracy = 0\n",
        "for epoch in range(EPOCHS):\n",
        "  print(f'Epoch {epoch + 1}/{EPOCHS}')\n",
        "  print('-' * 10)\n",
        "  train_acc, train_loss = train_epoch(\n",
        "    modell,\n",
        "    train_data_loader,\n",
        "    loss_fn,\n",
        "    optimizer,\n",
        "    device,\n",
        "    scheduler,\n",
        "    len(df_train)\n",
        "  )\n",
        "  print(f'Train loss {train_loss} accuracy {train_acc}')\n",
        "  val_acc, val_loss = eval_model(\n",
        "    modell,\n",
        "    val_data_loader,\n",
        "    loss_fn,\n",
        "    device,\n",
        "    len(df_val)\n",
        "  )\n",
        "\n",
        "  print(f'Val   loss {val_loss} accuracy {val_acc}')\n",
        "  print()\n",
        "  history['train_acc'].append(train_acc)\n",
        "  history['train_loss'].append(train_loss)\n",
        "  history['val_acc'].append(val_acc)\n",
        "  history['val_loss'].append(val_loss)\n",
        "  if val_acc > best_accuracy:\n",
        "    torch.save(modell.state_dict(), 'best_model_state.bin')\n",
        "    best_accuracy = val_acc"
      ],
      "execution_count": null,
      "outputs": [
        {
          "output_type": "stream",
          "name": "stdout",
          "text": [
            "Epoch 1/3\n",
            "----------\n",
            "Train loss 1.027215566635132 accuracy 0.5092563539378726\n",
            "Val   loss 0.9549960664340428 accuracy 0.5628140703517588\n",
            "\n",
            "Epoch 2/3\n",
            "----------\n",
            "Train loss 0.9410256731510163 accuracy 0.5635393787260746\n",
            "Val   loss 0.928107236112867 accuracy 0.5628140703517588\n",
            "\n",
            "Epoch 3/3\n",
            "----------\n",
            "Train loss 0.916309825181961 accuracy 0.5635393787260746\n",
            "Val   loss 0.9188054289136615 accuracy 0.5628140703517588\n",
            "\n",
            "CPU times: user 1min 29s, sys: 1.66 s, total: 1min 30s\n",
            "Wall time: 1min 39s\n"
          ]
        }
      ]
    },
    {
      "cell_type": "code",
      "metadata": {
        "id": "8Mpj2UjDt3XU"
      },
      "source": [
        "# !cp /content/best_model_state.bin /content/drive/MyDrive/fihindibert"
      ],
      "execution_count": null,
      "outputs": []
    },
    {
      "cell_type": "code",
      "metadata": {
        "id": "iAjsdWhdVx8w"
      },
      "source": [
        "# !mkdir /content/drive/MyDrive/ftb5"
      ],
      "execution_count": null,
      "outputs": []
    },
    {
      "cell_type": "code",
      "metadata": {
        "id": "PhNV7bhH2SlP"
      },
      "source": [
        "# modell.bert.save_pretrained(\"/content/drive/MyDrive/ftb5\")"
      ],
      "execution_count": null,
      "outputs": []
    },
    {
      "cell_type": "code",
      "metadata": {
        "id": "09FNZyD3pC-r"
      },
      "source": [
        "# modell.save(modell, '/content/drive/MyDrive/fihindibert/model.bin')"
      ],
      "execution_count": null,
      "outputs": []
    },
    {
      "cell_type": "code",
      "metadata": {
        "id": "L5KZV2hUNLSJ"
      },
      "source": [
        "test_data_loader = create_data_loader(df_test, tokenizer, MAX_LEN, BATCH_SIZE)"
      ],
      "execution_count": null,
      "outputs": []
    },
    {
      "cell_type": "code",
      "metadata": {
        "colab": {
          "base_uri": "https://localhost:8080/"
        },
        "id": "Wp-nAKbmbG2V",
        "outputId": "e13b69e6-00e6-4852-eef3-cad84a4b0526"
      },
      "source": [
        "test_acc, _ = eval_model(\n",
        "  modell,\n",
        "  test_data_loader,\n",
        "  loss_fn,\n",
        "  device,\n",
        "  len(df_test)\n",
        ")\n",
        "test_acc.item()"
      ],
      "execution_count": null,
      "outputs": [
        {
          "output_type": "execute_result",
          "data": {
            "text/plain": [
              "0.5639097744360901"
            ]
          },
          "metadata": {},
          "execution_count": 63
        }
      ]
    },
    {
      "cell_type": "code",
      "metadata": {
        "id": "uhwLk25jVJhi"
      },
      "source": [
        "actual_test_data_loader = create_data_loader(testt, tokenizer, MAX_LEN, BATCH_SIZE)"
      ],
      "execution_count": null,
      "outputs": []
    },
    {
      "cell_type": "code",
      "metadata": {
        "colab": {
          "base_uri": "https://localhost:8080/"
        },
        "id": "f4whdvlwVQG_",
        "outputId": "3a9e46c4-ba47-488b-d556-afc5206328d2"
      },
      "source": [
        "actual_test_acc, _ = eval_model(\n",
        "  modell,\n",
        "  actual_test_data_loader,\n",
        "  loss_fn,\n",
        "  device,\n",
        "  len(testt)\n",
        ")\n",
        "actual_test_acc.item()"
      ],
      "execution_count": null,
      "outputs": [
        {
          "output_type": "execute_result",
          "data": {
            "text/plain": [
              "0.27083333333333337"
            ]
          },
          "metadata": {},
          "execution_count": 69
        }
      ]
    },
    {
      "cell_type": "code",
      "metadata": {
        "id": "GTPkRWy-VUVE"
      },
      "source": [
        "def get_predictions(modell, data_loader):\n",
        "  modell = modell.eval()\n",
        "  review_texts = []\n",
        "  predictions = []\n",
        "  prediction_probs = []\n",
        "  real_values = []\n",
        "  with torch.no_grad():\n",
        "    for d in data_loader:\n",
        "      text = d[\"text\"]\n",
        "      input_ids = d[\"input_ids\"].to(device)\n",
        "      attention_mask = d[\"attention_mask\"].to(device)\n",
        "      Label = d[\"Label\"].to(device)\n",
        "      outputs = modell(\n",
        "        input_ids=input_ids,\n",
        "        attention_mask=attention_mask\n",
        "      )\n",
        "      _, preds = torch.max(outputs, dim=1)\n",
        "      text.extend(text)\n",
        "      predictions.extend(preds)\n",
        "      prediction_probs.extend(outputs)\n",
        "      real_values.extend(Label)\n",
        "  predictions = torch.stack(predictions).cpu()\n",
        "  prediction_probs = torch.stack(prediction_probs).cpu()\n",
        "  real_values = torch.stack(real_values).cpu()\n",
        "  return text, predictions, prediction_probs, real_values"
      ],
      "execution_count": null,
      "outputs": []
    },
    {
      "cell_type": "code",
      "metadata": {
        "id": "4zL2ISVOd5Fq"
      },
      "source": [
        "y_review_texts, y_pred, y_pred_probs, y_test = get_predictions(\n",
        "  modell,\n",
        "  test_data_loader\n",
        ")"
      ],
      "execution_count": null,
      "outputs": []
    },
    {
      "cell_type": "code",
      "metadata": {
        "id": "2W-OA2yUVb1t"
      },
      "source": [
        "y_review_texts, y_pred, y_pred_probs, y_test = get_predictions(\n",
        "  modell,\n",
        "  actual_test_data_loader\n",
        ")"
      ],
      "execution_count": null,
      "outputs": []
    },
    {
      "cell_type": "markdown",
      "metadata": {
        "id": "g-8vyb5xXjX_"
      },
      "source": [
        "# **TRAC2**"
      ]
    },
    {
      "cell_type": "code",
      "metadata": {
        "colab": {
          "base_uri": "https://localhost:8080/"
        },
        "id": "nuSQsvdPVf6N",
        "outputId": "86b5ccd5-9d07-40a0-a176-a136c7c113e4"
      },
      "source": [
        "print(classification_report(y_test, y_pred))"
      ],
      "execution_count": null,
      "outputs": [
        {
          "output_type": "stream",
          "name": "stdout",
          "text": [
            "              precision    recall  f1-score   support\n",
            "\n",
            "           0       0.00      0.00      0.00       191\n",
            "           1       0.27      1.00      0.43       325\n",
            "           2       0.00      0.00      0.00       684\n",
            "\n",
            "    accuracy                           0.27      1200\n",
            "   macro avg       0.09      0.33      0.14      1200\n",
            "weighted avg       0.07      0.27      0.12      1200\n",
            "\n"
          ]
        }
      ]
    },
    {
      "cell_type": "markdown",
      "source": [
        "With Translitetation"
      ],
      "metadata": {
        "id": "YvldJm3ZAaOw"
      }
    },
    {
      "cell_type": "code",
      "source": [
        "print(classification_report(y_test, y_pred))"
      ],
      "metadata": {
        "id": "3CCk89A5AY2B",
        "outputId": "4595d65b-8fc3-4856-8f6d-98891f8ee7ef",
        "colab": {
          "base_uri": "https://localhost:8080/"
        }
      },
      "execution_count": null,
      "outputs": [
        {
          "output_type": "stream",
          "name": "stdout",
          "text": [
            "              precision    recall  f1-score   support\n",
            "\n",
            "           0       0.00      0.00      0.00       191\n",
            "           1       0.27      1.00      0.43       325\n",
            "           2       0.00      0.00      0.00       684\n",
            "\n",
            "    accuracy                           0.27      1200\n",
            "   macro avg       0.09      0.33      0.14      1200\n",
            "weighted avg       0.07      0.27      0.12      1200\n",
            "\n"
          ]
        }
      ]
    },
    {
      "cell_type": "markdown",
      "metadata": {
        "id": "biycDYwfXnqz"
      },
      "source": [
        "# **Hate Speech**"
      ]
    },
    {
      "cell_type": "code",
      "metadata": {
        "colab": {
          "base_uri": "https://localhost:8080/"
        },
        "id": "2EvmxIUHFN3M",
        "outputId": "511fd7c1-ba8f-4dfb-af7d-25f6a5224919"
      },
      "source": [
        "print(classification_report(y_test, y_pred))"
      ],
      "execution_count": null,
      "outputs": [
        {
          "output_type": "stream",
          "name": "stdout",
          "text": [
            "              precision    recall  f1-score   support\n",
            "\n",
            "           0       0.64      1.00      0.78       291\n",
            "           1       0.00      0.00      0.00       166\n",
            "\n",
            "    accuracy                           0.64       457\n",
            "   macro avg       0.32      0.50      0.39       457\n",
            "weighted avg       0.41      0.64      0.50       457\n",
            "\n"
          ]
        }
      ]
    },
    {
      "cell_type": "markdown",
      "source": [
        "With Transliteration"
      ],
      "metadata": {
        "id": "_ehOYl0C_AWA"
      }
    },
    {
      "cell_type": "code",
      "source": [
        "print(classification_report(y_test, y_pred))"
      ],
      "metadata": {
        "id": "XIuM_j7x-3KR",
        "outputId": "c8af3a4f-126f-48cb-cefa-0c3dbebd2048",
        "colab": {
          "base_uri": "https://localhost:8080/"
        }
      },
      "execution_count": null,
      "outputs": [
        {
          "output_type": "stream",
          "name": "stdout",
          "text": [
            "              precision    recall  f1-score   support\n",
            "\n",
            "           0       0.64      1.00      0.78       291\n",
            "           1       0.00      0.00      0.00       166\n",
            "\n",
            "    accuracy                           0.64       457\n",
            "   macro avg       0.32      0.50      0.39       457\n",
            "weighted avg       0.41      0.64      0.50       457\n",
            "\n"
          ]
        }
      ]
    },
    {
      "cell_type": "markdown",
      "metadata": {
        "id": "qsHDTBIGCwFY"
      },
      "source": [
        "# **HOT**"
      ]
    },
    {
      "cell_type": "code",
      "metadata": {
        "colab": {
          "base_uri": "https://localhost:8080/"
        },
        "id": "CpAPocabeBk8",
        "outputId": "21ee1ad8-b6eb-443d-dfe0-947b99e59bc5"
      },
      "source": [
        "print(classification_report(y_test, y_pred))"
      ],
      "execution_count": null,
      "outputs": [
        {
          "output_type": "stream",
          "name": "stdout",
          "text": [
            "              precision    recall  f1-score   support\n",
            "\n",
            "           0       0.00      0.00      0.00       112\n",
            "           1       0.00      0.00      0.00        30\n",
            "           2       0.55      1.00      0.71       177\n",
            "\n",
            "    accuracy                           0.55       319\n",
            "   macro avg       0.18      0.33      0.24       319\n",
            "weighted avg       0.31      0.55      0.40       319\n",
            "\n"
          ]
        }
      ]
    },
    {
      "cell_type": "markdown",
      "source": [
        "With Transliteration"
      ],
      "metadata": {
        "id": "sL-2QEhu8uGp"
      }
    },
    {
      "cell_type": "code",
      "metadata": {
        "id": "m1VYlKhVCxyx",
        "outputId": "bc6381c4-a765-4600-d8fb-cf4f5791168c",
        "colab": {
          "base_uri": "https://localhost:8080/"
        }
      },
      "source": [
        "print(classification_report(y_test, y_pred))"
      ],
      "execution_count": null,
      "outputs": [
        {
          "output_type": "stream",
          "name": "stdout",
          "text": [
            "              precision    recall  f1-score   support\n",
            "\n",
            "           0       0.68      0.22      0.34       112\n",
            "           1       0.00      0.00      0.00        30\n",
            "           2       0.60      0.96      0.74       177\n",
            "\n",
            "    accuracy                           0.61       319\n",
            "   macro avg       0.43      0.39      0.36       319\n",
            "weighted avg       0.57      0.61      0.53       319\n",
            "\n"
          ]
        }
      ]
    },
    {
      "cell_type": "code",
      "source": [
        ""
      ],
      "metadata": {
        "id": "_obfcbSZ8scz"
      },
      "execution_count": null,
      "outputs": []
    }
  ]
}
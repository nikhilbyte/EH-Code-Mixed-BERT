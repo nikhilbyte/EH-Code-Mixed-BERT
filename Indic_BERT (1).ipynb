{
  "nbformat": 4,
  "nbformat_minor": 0,
  "metadata": {
    "accelerator": "GPU",
    "colab": {
      "name": "Indic_BERT.ipynb",
      "provenance": [],
      "collapsed_sections": []
    },
    "kernelspec": {
      "display_name": "Python 3",
      "name": "python3"
    }
  },
  "cells": [
    {
      "cell_type": "code",
      "metadata": {
        "colab": {
          "base_uri": "https://localhost:8080/"
        },
        "id": "HhAqZLs3lwhW",
        "outputId": "759b1a4c-f07f-4991-afb5-a56a7e29a72e"
      },
      "source": [
        "# Fist install the library and download the models from github\n",
        "# !pip install transformers\n",
        "!pip install transformers\n",
        "# !wget https://users.dcc.uchile.cl/~jperez/beto/cased_2M/pytorch_weights.tar.gz \n",
        "# !wget https://users.dcc.uchile.cl/~jperez/beto/cased_2M/vocab.txt \n",
        "# !wget https://users.dcc.uchile.cl/~jperez/beto/cased_2M/config.json \n",
        "# !tar -xzvf pytorch_weights.tar.gz\n",
        "# !mv config.json pytorch/.\n",
        "# !mv vocab.txt pytorch/."
      ],
      "execution_count": 1,
      "outputs": [
        {
          "output_type": "stream",
          "name": "stdout",
          "text": [
            "Collecting transformers\n",
            "  Downloading transformers-4.17.0-py3-none-any.whl (3.8 MB)\n",
            "\u001b[K     |████████████████████████████████| 3.8 MB 4.0 MB/s \n",
            "\u001b[?25hRequirement already satisfied: regex!=2019.12.17 in /usr/local/lib/python3.7/dist-packages (from transformers) (2019.12.20)\n",
            "Collecting tokenizers!=0.11.3,>=0.11.1\n",
            "  Downloading tokenizers-0.11.6-cp37-cp37m-manylinux_2_12_x86_64.manylinux2010_x86_64.whl (6.5 MB)\n",
            "\u001b[K     |████████████████████████████████| 6.5 MB 48.5 MB/s \n",
            "\u001b[?25hRequirement already satisfied: numpy>=1.17 in /usr/local/lib/python3.7/dist-packages (from transformers) (1.21.5)\n",
            "Requirement already satisfied: filelock in /usr/local/lib/python3.7/dist-packages (from transformers) (3.6.0)\n",
            "Collecting huggingface-hub<1.0,>=0.1.0\n",
            "  Downloading huggingface_hub-0.4.0-py3-none-any.whl (67 kB)\n",
            "\u001b[K     |████████████████████████████████| 67 kB 5.8 MB/s \n",
            "\u001b[?25hRequirement already satisfied: requests in /usr/local/lib/python3.7/dist-packages (from transformers) (2.23.0)\n",
            "Requirement already satisfied: importlib-metadata in /usr/local/lib/python3.7/dist-packages (from transformers) (4.11.2)\n",
            "Requirement already satisfied: packaging>=20.0 in /usr/local/lib/python3.7/dist-packages (from transformers) (21.3)\n",
            "Requirement already satisfied: tqdm>=4.27 in /usr/local/lib/python3.7/dist-packages (from transformers) (4.63.0)\n",
            "Collecting pyyaml>=5.1\n",
            "  Downloading PyYAML-6.0-cp37-cp37m-manylinux_2_5_x86_64.manylinux1_x86_64.manylinux_2_12_x86_64.manylinux2010_x86_64.whl (596 kB)\n",
            "\u001b[K     |████████████████████████████████| 596 kB 51.4 MB/s \n",
            "\u001b[?25hCollecting sacremoses\n",
            "  Downloading sacremoses-0.0.49-py3-none-any.whl (895 kB)\n",
            "\u001b[K     |████████████████████████████████| 895 kB 55.9 MB/s \n",
            "\u001b[?25hRequirement already satisfied: typing-extensions>=3.7.4.3 in /usr/local/lib/python3.7/dist-packages (from huggingface-hub<1.0,>=0.1.0->transformers) (3.10.0.2)\n",
            "Requirement already satisfied: pyparsing!=3.0.5,>=2.0.2 in /usr/local/lib/python3.7/dist-packages (from packaging>=20.0->transformers) (3.0.7)\n",
            "Requirement already satisfied: zipp>=0.5 in /usr/local/lib/python3.7/dist-packages (from importlib-metadata->transformers) (3.7.0)\n",
            "Requirement already satisfied: certifi>=2017.4.17 in /usr/local/lib/python3.7/dist-packages (from requests->transformers) (2021.10.8)\n",
            "Requirement already satisfied: idna<3,>=2.5 in /usr/local/lib/python3.7/dist-packages (from requests->transformers) (2.10)\n",
            "Requirement already satisfied: chardet<4,>=3.0.2 in /usr/local/lib/python3.7/dist-packages (from requests->transformers) (3.0.4)\n",
            "Requirement already satisfied: urllib3!=1.25.0,!=1.25.1,<1.26,>=1.21.1 in /usr/local/lib/python3.7/dist-packages (from requests->transformers) (1.24.3)\n",
            "Requirement already satisfied: six in /usr/local/lib/python3.7/dist-packages (from sacremoses->transformers) (1.15.0)\n",
            "Requirement already satisfied: joblib in /usr/local/lib/python3.7/dist-packages (from sacremoses->transformers) (1.1.0)\n",
            "Requirement already satisfied: click in /usr/local/lib/python3.7/dist-packages (from sacremoses->transformers) (7.1.2)\n",
            "Installing collected packages: pyyaml, tokenizers, sacremoses, huggingface-hub, transformers\n",
            "  Attempting uninstall: pyyaml\n",
            "    Found existing installation: PyYAML 3.13\n",
            "    Uninstalling PyYAML-3.13:\n",
            "      Successfully uninstalled PyYAML-3.13\n",
            "Successfully installed huggingface-hub-0.4.0 pyyaml-6.0 sacremoses-0.0.49 tokenizers-0.11.6 transformers-4.17.0\n"
          ]
        }
      ]
    },
    {
      "cell_type": "code",
      "metadata": {
        "id": "NpvXZ0i1RgpT"
      },
      "source": [
        "import warnings\n",
        "warnings.simplefilter('ignore')\n"
      ],
      "execution_count": 2,
      "outputs": []
    },
    {
      "cell_type": "code",
      "metadata": {
        "id": "HDhW5AlRJrdN",
        "colab": {
          "base_uri": "https://localhost:8080/"
        },
        "outputId": "a4c634fa-9db8-465b-8ebe-fef0bb9df2ea"
      },
      "source": [
        "from google.colab import drive\n",
        "drive.mount('/content/drive')"
      ],
      "execution_count": 3,
      "outputs": [
        {
          "output_type": "stream",
          "name": "stdout",
          "text": [
            "Mounted at /content/drive\n"
          ]
        }
      ]
    },
    {
      "cell_type": "code",
      "metadata": {
        "id": "X-5Vd5WO8MMC"
      },
      "source": [
        ""
      ],
      "execution_count": null,
      "outputs": []
    },
    {
      "cell_type": "code",
      "metadata": {
        "colab": {
          "base_uri": "https://localhost:8080/"
        },
        "id": "5UQm8w-WRYmA",
        "outputId": "86a7f899-eb70-491e-d46d-b1fd517121a2"
      },
      "source": [
        "!unzip /content/archive.zip"
      ],
      "execution_count": null,
      "outputs": [
        {
          "output_type": "stream",
          "text": [
            "Archive:  /content/archive.zip\n",
            "  inflating: hindi-vocab.txt         \n"
          ],
          "name": "stdout"
        }
      ]
    },
    {
      "cell_type": "code",
      "metadata": {
        "id": "5Ldg0_4poFaX"
      },
      "source": [
        "\n",
        "!mkdir pytorch"
      ],
      "execution_count": null,
      "outputs": []
    },
    {
      "cell_type": "code",
      "metadata": {
        "id": "vyJDcAAaKTfx"
      },
      "source": [
        "!cp /content/drive/MyDrive/pytorch_model.bin /content/pytorch"
      ],
      "execution_count": null,
      "outputs": []
    },
    {
      "cell_type": "code",
      "metadata": {
        "id": "WAabOWDi5i0f"
      },
      "source": [
        "!cp /content/drive/MyDrive/ftb5/config.json /content/pytorch"
      ],
      "execution_count": null,
      "outputs": []
    },
    {
      "cell_type": "code",
      "metadata": {
        "id": "NiXwDYggKcuS"
      },
      "source": [
        "with open(\"/content/drive/MyDrive/dataa/HOT.txt\",\"r\")as a:\n",
        "\ttexts = a.readlines()"
      ],
      "execution_count": 132,
      "outputs": []
    },
    {
      "cell_type": "code",
      "metadata": {
        "id": "5TUaAvzaMl5O"
      },
      "source": [
        "# with open(\"/content/drive/MyDrive/dataa/Trac2_test.txt\",\"r\")as a:\n",
        "# \ttexts_test = a.readlines()"
      ],
      "execution_count": 133,
      "outputs": []
    },
    {
      "cell_type": "code",
      "metadata": {
        "id": "jGWj6rP4Mzxm"
      },
      "source": [
        "import pickle\n"
      ],
      "execution_count": 134,
      "outputs": []
    },
    {
      "cell_type": "code",
      "metadata": {
        "id": "4v3NQ3uiLw39"
      },
      "source": [
        "with open('/content/drive/MyDrive/dataa/HOT_Labels.pkl', 'rb') as f:\n",
        "  Labels = pickle.load(f)"
      ],
      "execution_count": 135,
      "outputs": []
    },
    {
      "cell_type": "code",
      "source": [
        "# Labels"
      ],
      "metadata": {
        "id": "c9O13cD9sPyJ"
      },
      "execution_count": 136,
      "outputs": []
    },
    {
      "cell_type": "code",
      "metadata": {
        "id": "nOYwfuFWLwz6"
      },
      "source": [
        "# with open('/content/drive/MyDrive/dataa/Trac2_test_Labels.pkl', 'rb') as f:\n",
        "#   Labels_test = pickle.load(f)"
      ],
      "execution_count": 137,
      "outputs": []
    },
    {
      "cell_type": "code",
      "source": [
        "# Labels_test"
      ],
      "metadata": {
        "id": "kEabnbkMrose"
      },
      "execution_count": 138,
      "outputs": []
    },
    {
      "cell_type": "code",
      "metadata": {
        "id": "70XvAaKMNrAd"
      },
      "source": [
        "import pandas as pd"
      ],
      "execution_count": 139,
      "outputs": []
    },
    {
      "cell_type": "code",
      "metadata": {
        "id": "89yOWcRMLwv9"
      },
      "source": [
        "train = pd.DataFrame(zip(texts,Labels),columns=['Text','Label'])"
      ],
      "execution_count": 140,
      "outputs": []
    },
    {
      "cell_type": "code",
      "metadata": {
        "id": "IijvjDyUNtZS"
      },
      "source": [
        "# testt = pd.DataFrame(zip(texts_test,Labels_test),columns=['Text','Label'])"
      ],
      "execution_count": 141,
      "outputs": []
    },
    {
      "cell_type": "code",
      "metadata": {
        "id": "1L0dCDOuK7o6"
      },
      "source": [
        "# max_size =train[\"Label\"].value_counts().max()\n",
        "\n",
        "\n",
        "# lst = [train]\n",
        "# for class_index, group in train.groupby('Label'):\n",
        "#     lst.append(group.sample(max_size-len(group), replace=True))\n",
        "# train_new = pd.concat(lst)"
      ],
      "execution_count": 142,
      "outputs": []
    },
    {
      "cell_type": "code",
      "metadata": {
        "id": "tb9CZLSgQphw"
      },
      "source": [
        "# import pandas as pd\n",
        "# train = pd.read_csv(\"/content/augmented_trac2.csv\")\n",
        "# # testt = pd.read_excel(\"/content/test.xlsx\")"
      ],
      "execution_count": 143,
      "outputs": []
    },
    {
      "cell_type": "code",
      "metadata": {
        "colab": {
          "base_uri": "https://localhost:8080/",
          "height": 206
        },
        "id": "0LvO_lnnpFoq",
        "outputId": "6d8d89a0-bccf-4a46-d761-361ccaa9f1fe"
      },
      "source": [
        "train.head()"
      ],
      "execution_count": 144,
      "outputs": [
        {
          "output_type": "execute_result",
          "data": {
            "text/plain": [
              "                                                Text  Label\n",
              "0                           haa jaise tum bhi abhi\\n      0\n",
              "1  banti hai empowered woman, feminism pe gyan pe...      2\n",
              "2  rt ab usko chhod mjse bat kr tera baap aa gya ...      2\n",
              "3  punjab in madarchodon ko khila raha hai, nokri...      2\n",
              "4  rt agar koi bole ki ja ke chill maar to madarc...      2"
            ],
            "text/html": [
              "\n",
              "  <div id=\"df-8ea743bc-14fd-4f7f-a658-bf609bfd6b75\">\n",
              "    <div class=\"colab-df-container\">\n",
              "      <div>\n",
              "<style scoped>\n",
              "    .dataframe tbody tr th:only-of-type {\n",
              "        vertical-align: middle;\n",
              "    }\n",
              "\n",
              "    .dataframe tbody tr th {\n",
              "        vertical-align: top;\n",
              "    }\n",
              "\n",
              "    .dataframe thead th {\n",
              "        text-align: right;\n",
              "    }\n",
              "</style>\n",
              "<table border=\"1\" class=\"dataframe\">\n",
              "  <thead>\n",
              "    <tr style=\"text-align: right;\">\n",
              "      <th></th>\n",
              "      <th>Text</th>\n",
              "      <th>Label</th>\n",
              "    </tr>\n",
              "  </thead>\n",
              "  <tbody>\n",
              "    <tr>\n",
              "      <th>0</th>\n",
              "      <td>haa jaise tum bhi abhi\\n</td>\n",
              "      <td>0</td>\n",
              "    </tr>\n",
              "    <tr>\n",
              "      <th>1</th>\n",
              "      <td>banti hai empowered woman, feminism pe gyan pe...</td>\n",
              "      <td>2</td>\n",
              "    </tr>\n",
              "    <tr>\n",
              "      <th>2</th>\n",
              "      <td>rt ab usko chhod mjse bat kr tera baap aa gya ...</td>\n",
              "      <td>2</td>\n",
              "    </tr>\n",
              "    <tr>\n",
              "      <th>3</th>\n",
              "      <td>punjab in madarchodon ko khila raha hai, nokri...</td>\n",
              "      <td>2</td>\n",
              "    </tr>\n",
              "    <tr>\n",
              "      <th>4</th>\n",
              "      <td>rt agar koi bole ki ja ke chill maar to madarc...</td>\n",
              "      <td>2</td>\n",
              "    </tr>\n",
              "  </tbody>\n",
              "</table>\n",
              "</div>\n",
              "      <button class=\"colab-df-convert\" onclick=\"convertToInteractive('df-8ea743bc-14fd-4f7f-a658-bf609bfd6b75')\"\n",
              "              title=\"Convert this dataframe to an interactive table.\"\n",
              "              style=\"display:none;\">\n",
              "        \n",
              "  <svg xmlns=\"http://www.w3.org/2000/svg\" height=\"24px\"viewBox=\"0 0 24 24\"\n",
              "       width=\"24px\">\n",
              "    <path d=\"M0 0h24v24H0V0z\" fill=\"none\"/>\n",
              "    <path d=\"M18.56 5.44l.94 2.06.94-2.06 2.06-.94-2.06-.94-.94-2.06-.94 2.06-2.06.94zm-11 1L8.5 8.5l.94-2.06 2.06-.94-2.06-.94L8.5 2.5l-.94 2.06-2.06.94zm10 10l.94 2.06.94-2.06 2.06-.94-2.06-.94-.94-2.06-.94 2.06-2.06.94z\"/><path d=\"M17.41 7.96l-1.37-1.37c-.4-.4-.92-.59-1.43-.59-.52 0-1.04.2-1.43.59L10.3 9.45l-7.72 7.72c-.78.78-.78 2.05 0 2.83L4 21.41c.39.39.9.59 1.41.59.51 0 1.02-.2 1.41-.59l7.78-7.78 2.81-2.81c.8-.78.8-2.07 0-2.86zM5.41 20L4 18.59l7.72-7.72 1.47 1.35L5.41 20z\"/>\n",
              "  </svg>\n",
              "      </button>\n",
              "      \n",
              "  <style>\n",
              "    .colab-df-container {\n",
              "      display:flex;\n",
              "      flex-wrap:wrap;\n",
              "      gap: 12px;\n",
              "    }\n",
              "\n",
              "    .colab-df-convert {\n",
              "      background-color: #E8F0FE;\n",
              "      border: none;\n",
              "      border-radius: 50%;\n",
              "      cursor: pointer;\n",
              "      display: none;\n",
              "      fill: #1967D2;\n",
              "      height: 32px;\n",
              "      padding: 0 0 0 0;\n",
              "      width: 32px;\n",
              "    }\n",
              "\n",
              "    .colab-df-convert:hover {\n",
              "      background-color: #E2EBFA;\n",
              "      box-shadow: 0px 1px 2px rgba(60, 64, 67, 0.3), 0px 1px 3px 1px rgba(60, 64, 67, 0.15);\n",
              "      fill: #174EA6;\n",
              "    }\n",
              "\n",
              "    [theme=dark] .colab-df-convert {\n",
              "      background-color: #3B4455;\n",
              "      fill: #D2E3FC;\n",
              "    }\n",
              "\n",
              "    [theme=dark] .colab-df-convert:hover {\n",
              "      background-color: #434B5C;\n",
              "      box-shadow: 0px 1px 3px 1px rgba(0, 0, 0, 0.15);\n",
              "      filter: drop-shadow(0px 1px 2px rgba(0, 0, 0, 0.3));\n",
              "      fill: #FFFFFF;\n",
              "    }\n",
              "  </style>\n",
              "\n",
              "      <script>\n",
              "        const buttonEl =\n",
              "          document.querySelector('#df-8ea743bc-14fd-4f7f-a658-bf609bfd6b75 button.colab-df-convert');\n",
              "        buttonEl.style.display =\n",
              "          google.colab.kernel.accessAllowed ? 'block' : 'none';\n",
              "\n",
              "        async function convertToInteractive(key) {\n",
              "          const element = document.querySelector('#df-8ea743bc-14fd-4f7f-a658-bf609bfd6b75');\n",
              "          const dataTable =\n",
              "            await google.colab.kernel.invokeFunction('convertToInteractive',\n",
              "                                                     [key], {});\n",
              "          if (!dataTable) return;\n",
              "\n",
              "          const docLinkHtml = 'Like what you see? Visit the ' +\n",
              "            '<a target=\"_blank\" href=https://colab.research.google.com/notebooks/data_table.ipynb>data table notebook</a>'\n",
              "            + ' to learn more about interactive tables.';\n",
              "          element.innerHTML = '';\n",
              "          dataTable['output_type'] = 'display_data';\n",
              "          await google.colab.output.renderOutput(dataTable, element);\n",
              "          const docLink = document.createElement('div');\n",
              "          docLink.innerHTML = docLinkHtml;\n",
              "          element.appendChild(docLink);\n",
              "        }\n",
              "      </script>\n",
              "    </div>\n",
              "  </div>\n",
              "  "
            ]
          },
          "metadata": {},
          "execution_count": 144
        }
      ]
    },
    {
      "cell_type": "code",
      "metadata": {
        "id": "4IjpRn6kpKtn"
      },
      "source": [
        "train.columns=['Text','Label']"
      ],
      "execution_count": 145,
      "outputs": []
    },
    {
      "cell_type": "code",
      "metadata": {
        "id": "lyg9Jtf_SIsI"
      },
      "source": [
        "from transformers import (\n",
        "   AutoConfig,\n",
        "   AutoTokenizer,\n",
        "   TFAutoModelForSequenceClassification,\n",
        "   AdamW,\n",
        "   glue_convert_examples_to_features\n",
        ")\n",
        "import tensorflow as tf\n",
        "import tensorflow_datasets as tfds\n",
        "import json"
      ],
      "execution_count": 146,
      "outputs": []
    },
    {
      "cell_type": "code",
      "metadata": {
        "id": "m_pv1MU8SQa8"
      },
      "source": [
        "import transformers\n",
        "from transformers import BertModel, BertTokenizer, AdamW, get_linear_schedule_with_warmup\n",
        "import torch\n",
        "import numpy as np\n",
        "import pandas as pd\n",
        "import seaborn as sns\n",
        "from pylab import rcParams\n",
        "import matplotlib.pyplot as plt\n",
        "from matplotlib import rc\n",
        "from sklearn.model_selection import train_test_split\n",
        "from sklearn.metrics import confusion_matrix, classification_report\n",
        "from collections import defaultdict\n",
        "from textwrap import wrap\n",
        "from torch import nn, optim\n",
        "from torch.utils.data import Dataset, DataLoader\n",
        "%matplotlib inline\n",
        "%config InlineBackend.figure_format='retina'\n",
        "sns.set(style='whitegrid', palette='muted', font_scale=1.2)\n",
        "HAPPY_COLORS_PALETTE = [\"#01BEFE\", \"#FFDD00\", \"#FF7D00\", \"#FF006D\", \"#ADFF02\", \"#8F00FF\"]\n",
        "sns.set_palette(sns.color_palette(HAPPY_COLORS_PALETTE))\n",
        "rcParams['figure.figsize'] = 12, 8\n",
        "# RANDOM_SEED = 42\n",
        "# np.random.seed(RANDOM_SEED)\n",
        "# torch.manual_seed(RANDOM_SEED)\n",
        "device = torch.device(\"cuda:0\" if torch.cuda.is_available() else \"cpu\")"
      ],
      "execution_count": 147,
      "outputs": []
    },
    {
      "cell_type": "code",
      "metadata": {
        "colab": {
          "base_uri": "https://localhost:8080/"
        },
        "id": "Kakkp0HNSVqh",
        "outputId": "074579be-bb48-4d9e-c77e-6a531e50628e"
      },
      "source": [
        " \n",
        "from tensorflow.python.client import device_lib\n",
        "device_lib.list_local_devices()"
      ],
      "execution_count": 148,
      "outputs": [
        {
          "output_type": "execute_result",
          "data": {
            "text/plain": [
              "[name: \"/device:CPU:0\"\n",
              " device_type: \"CPU\"\n",
              " memory_limit: 268435456\n",
              " locality {\n",
              " }\n",
              " incarnation: 5976233977395640172\n",
              " xla_global_id: -1, name: \"/device:GPU:0\"\n",
              " device_type: \"GPU\"\n",
              " memory_limit: 13190823936\n",
              " locality {\n",
              "   bus_id: 1\n",
              "   links {\n",
              "   }\n",
              " }\n",
              " incarnation: 16922287455854715199\n",
              " physical_device_desc: \"device: 0, name: Tesla T4, pci bus id: 0000:00:04.0, compute capability: 7.5\"\n",
              " xla_global_id: 416903419]"
            ]
          },
          "metadata": {},
          "execution_count": 148
        }
      ]
    },
    {
      "cell_type": "code",
      "source": [
        "!pip3 install sentencepiece\n"
      ],
      "metadata": {
        "colab": {
          "base_uri": "https://localhost:8080/"
        },
        "id": "3YYlCnFLn3Ry",
        "outputId": "52cdbf99-c082-4dd2-b574-2a020e43931d"
      },
      "execution_count": 20,
      "outputs": [
        {
          "output_type": "stream",
          "name": "stdout",
          "text": [
            "Collecting sentencepiece\n",
            "  Downloading sentencepiece-0.1.96-cp37-cp37m-manylinux_2_17_x86_64.manylinux2014_x86_64.whl (1.2 MB)\n",
            "\u001b[K     |████████████████████████████████| 1.2 MB 3.9 MB/s \n",
            "\u001b[?25hInstalling collected packages: sentencepiece\n",
            "Successfully installed sentencepiece-0.1.96\n"
          ]
        }
      ]
    },
    {
      "cell_type": "code",
      "source": [
        "from transformers import AutoModel, AutoTokenizer\n",
        "tokenizer = AutoTokenizer.from_pretrained('ai4bharat/indic-bert')\n",
        "model = AutoModel.from_pretrained('ai4bharat/indic-bert')\n"
      ],
      "metadata": {
        "colab": {
          "base_uri": "https://localhost:8080/"
        },
        "id": "segpsWFDnsCo",
        "outputId": "edb62ede-8b9e-40bb-808d-4456dbf57fc6"
      },
      "execution_count": 149,
      "outputs": [
        {
          "output_type": "stream",
          "name": "stderr",
          "text": [
            "Some weights of the model checkpoint at ai4bharat/indic-bert were not used when initializing AlbertModel: ['sop_classifier.classifier.bias', 'sop_classifier.classifier.weight', 'predictions.dense.bias', 'predictions.decoder.weight', 'predictions.LayerNorm.bias', 'predictions.LayerNorm.weight', 'predictions.decoder.bias', 'predictions.bias', 'predictions.dense.weight']\n",
            "- This IS expected if you are initializing AlbertModel from the checkpoint of a model trained on another task or with another architecture (e.g. initializing a BertForSequenceClassification model from a BertForPreTraining model).\n",
            "- This IS NOT expected if you are initializing AlbertModel from the checkpoint of a model that you expect to be exactly identical (initializing a BertForSequenceClassification model from a BertForSequenceClassification model).\n"
          ]
        }
      ]
    },
    {
      "cell_type": "code",
      "metadata": {
        "id": "_XRmXxkZSWxH"
      },
      "source": [
        "# from transformers import BertModel\n",
        "# model = Auto.from_pretrained('/content/pytorch')"
      ],
      "execution_count": 150,
      "outputs": []
    },
    {
      "cell_type": "code",
      "metadata": {
        "id": "E6PtBC0RpicX"
      },
      "source": [
        "train.dropna(inplace=True)"
      ],
      "execution_count": 151,
      "outputs": []
    },
    {
      "cell_type": "code",
      "metadata": {
        "id": "IR8pP21XhnVB"
      },
      "source": [
        "train['Text'] = train['Text'].apply(lambda x:x.replace('\\n',''))"
      ],
      "execution_count": 152,
      "outputs": []
    },
    {
      "cell_type": "code",
      "metadata": {
        "id": "4SNpvoO7M0my"
      },
      "source": [
        "# train_new.dropna(inplace=True)\n",
        "# train_new['Text'] = train_new['Text'].apply(lambda x:x.replace('\\n',''))"
      ],
      "execution_count": 153,
      "outputs": []
    },
    {
      "cell_type": "code",
      "metadata": {
        "colab": {
          "base_uri": "https://localhost:8080/"
        },
        "id": "_E8y7N9LUMVo",
        "outputId": "a3b83a8b-2513-4ed5-b3e5-c67f2a9fa9db"
      },
      "source": [
        "train.shape"
      ],
      "execution_count": 154,
      "outputs": [
        {
          "output_type": "execute_result",
          "data": {
            "text/plain": [
              "(3189, 2)"
            ]
          },
          "metadata": {},
          "execution_count": 154
        }
      ]
    },
    {
      "cell_type": "code",
      "metadata": {
        "id": "GVPWHciQUNdm"
      },
      "source": [
        "# from sklearn.preprocessing import LabelEncoder\n",
        "# labelencoder = LabelEncoder()\n",
        "# train['Label'] = labelencoder.fit_transform(train['Label'])"
      ],
      "execution_count": 155,
      "outputs": []
    },
    {
      "cell_type": "code",
      "metadata": {
        "id": "TQ-gD2eEM6u5"
      },
      "source": [
        "# from sklearn.preprocessing import LabelEncoder\n",
        "# labelencoder = LabelEncoder()\n",
        "# train_new['Label'] = labelencoder.fit_transform(train_new['Label'])"
      ],
      "execution_count": 156,
      "outputs": []
    },
    {
      "cell_type": "code",
      "metadata": {
        "colab": {
          "base_uri": "https://localhost:8080/",
          "height": 506
        },
        "id": "8A8wheS1Urhg",
        "outputId": "55556d0a-9ee1-48eb-8e1e-925098657b54"
      },
      "source": [
        "import seaborn as sns\n",
        "import matplotlib.pyplot as plt\n",
        "sns.countplot(train.Label)\n",
        "plt.xlabel('label');"
      ],
      "execution_count": 157,
      "outputs": [
        {
          "output_type": "display_data",
          "data": {
            "text/plain": [
              "<Figure size 864x576 with 1 Axes>"
            ],
            "image/png": "[encoded data removed]"
          },
          "metadata": {
            "image/png": {
              "width": 745,
              "height": 489
            }
          }
        }
      ]
    },
    {
      "cell_type": "code",
      "metadata": {
        "id": "U4kspTwzUv5m"
      },
      "source": [
        "# model_name = '/content/pytorch/hindi-vocab.txt'\n",
        "# tokenizer = BertTokenizer.from_pretrained(model_name, truncation=True)"
      ],
      "execution_count": 158,
      "outputs": []
    },
    {
      "cell_type": "code",
      "metadata": {
        "id": "ls3gabVwVxZo"
      },
      "source": [
        "import tokenizers"
      ],
      "execution_count": 159,
      "outputs": []
    },
    {
      "cell_type": "code",
      "metadata": {
        "id": "LQZizMIGWM5O"
      },
      "source": [
        "sample_txt = 'Yeh ek vkya hai'"
      ],
      "execution_count": 160,
      "outputs": []
    },
    {
      "cell_type": "code",
      "metadata": {
        "colab": {
          "base_uri": "https://localhost:8080/"
        },
        "id": "pRRJJNv7V4o1",
        "outputId": "6868a7a9-c895-4200-ca12-f1214439b8b8"
      },
      "source": [
        "tokens = tokenizer.tokenize(sample_txt)\n",
        "token_ids = tokenizer.convert_tokens_to_ids(tokens)\n",
        "\n",
        "print(f' Sentence: {sample_txt}')\n",
        "print(f'   Tokens: {tokens}')\n",
        "print(f'Token IDs: {token_ids}')"
      ],
      "execution_count": 161,
      "outputs": [
        {
          "output_type": "stream",
          "name": "stdout",
          "text": [
            " Sentence: Yeh ek vkya hai\n",
            "   Tokens: ['▁ye', 'h', '▁', 'ek', '▁v', 'kya', '▁hai']\n",
            "Token IDs: [121067, 3343, 8, 19216, 10048, 107553, 31279]\n"
          ]
        }
      ]
    },
    {
      "cell_type": "code",
      "metadata": {
        "colab": {
          "base_uri": "https://localhost:8080/"
        },
        "id": "Haabt4pGV-LR",
        "outputId": "61aefa77-7110-4625-9d75-2a54065595e1"
      },
      "source": [
        "tokenizer.sep_token, tokenizer.sep_token_id"
      ],
      "execution_count": 162,
      "outputs": [
        {
          "output_type": "execute_result",
          "data": {
            "text/plain": [
              "('[SEP]', 3)"
            ]
          },
          "metadata": {},
          "execution_count": 162
        }
      ]
    },
    {
      "cell_type": "code",
      "metadata": {
        "colab": {
          "base_uri": "https://localhost:8080/"
        },
        "id": "-65CGkMgWpcv",
        "outputId": "e85ac9e2-52a6-4a15-e5ce-8b3434fd2564"
      },
      "source": [
        "encoding = tokenizer.encode_plus(\n",
        "  sample_txt,\n",
        "  max_length=90,\n",
        "  add_special_tokens=True, # Add '[CLS]' and '[SEP]'\n",
        "  return_token_type_ids=False,\n",
        "  pad_to_max_length=True,\n",
        "  return_attention_mask=True,\n",
        "  return_tensors='pt',  # Return PyTorch tensors\n",
        ")\n",
        "\n",
        "encoding.keys()"
      ],
      "execution_count": 163,
      "outputs": [
        {
          "output_type": "stream",
          "name": "stderr",
          "text": [
            "Truncation was not explicitly activated but `max_length` is provided a specific value, please use `truncation=True` to explicitly truncate examples to max length. Defaulting to 'longest_first' truncation strategy. If you encode pairs of sequences (GLUE-style) with the tokenizer you can select this strategy more precisely by providing a specific strategy to `truncation`.\n"
          ]
        },
        {
          "output_type": "execute_result",
          "data": {
            "text/plain": [
              "dict_keys(['input_ids', 'attention_mask'])"
            ]
          },
          "metadata": {},
          "execution_count": 163
        }
      ]
    },
    {
      "cell_type": "code",
      "metadata": {
        "id": "SPpgnqMzW2zH"
      },
      "source": [
        "token_lens = []\n",
        "\n",
        "for txt in train.Text:\n",
        "  tokens = tokenizer.encode(txt,truncation=True, max_length=512)\n",
        "  token_lens.append(len(tokens))"
      ],
      "execution_count": 164,
      "outputs": []
    },
    {
      "cell_type": "code",
      "metadata": {
        "colab": {
          "base_uri": "https://localhost:8080/",
          "height": 506
        },
        "id": "pdmgKvZAW_gR",
        "outputId": "e5ccf9b2-c603-439d-e9b4-4dba86d4ca31"
      },
      "source": [
        "sns.distplot(token_lens)\n",
        "plt.xlim([0, 140]);\n",
        "plt.xlabel('Token count');"
      ],
      "execution_count": 165,
      "outputs": [
        {
          "output_type": "display_data",
          "data": {
            "text/plain": [
              "<Figure size 864x576 with 1 Axes>"
            ],
            "image/png": "[encoded data removed]"
          },
          "metadata": {
            "image/png": {
              "width": 761,
              "height": 489
            }
          }
        }
      ]
    },
    {
      "cell_type": "code",
      "metadata": {
        "id": "_GHC_R0LXGjE"
      },
      "source": [
        "MAX_LEN = 72"
      ],
      "execution_count": null,
      "outputs": []
    },
    {
      "cell_type": "code",
      "metadata": {
        "id": "ooTxV_VY4iGg"
      },
      "source": [
        "MAX_LEN = 64"
      ],
      "execution_count": 36,
      "outputs": []
    },
    {
      "cell_type": "code",
      "metadata": {
        "id": "BEzkIVxh5wcK"
      },
      "source": [
        "MAX_LEN = 36"
      ],
      "execution_count": 166,
      "outputs": []
    },
    {
      "cell_type": "code",
      "metadata": {
        "id": "LZXvkOGy_ywD"
      },
      "source": [
        "MAX_LEN = 54"
      ],
      "execution_count": 107,
      "outputs": []
    },
    {
      "cell_type": "code",
      "metadata": {
        "id": "ZlWYBuSyXZ05"
      },
      "source": [
        "class GPReviewDataset(Dataset):\n",
        "  def __init__(self, Text, Label, tokenizer, max_len):\n",
        "    self.Text = Text\n",
        "    self.Label = Label\n",
        "    self.tokenizer = tokenizer\n",
        "    self.max_len = max_len\n",
        "  def __len__(self):\n",
        "    return len(self.Text)\n",
        "  def __getitem__(self, item):\n",
        "    Text = str(self.Text[item])\n",
        "    Label = self.Label[item]\n",
        "    encoding = self.tokenizer.encode_plus(\n",
        "      Text,\n",
        "      add_special_tokens=True,\n",
        "      max_length=self.max_len,\n",
        "      return_token_type_ids=False,\n",
        "      pad_to_max_length=True,\n",
        "      return_attention_mask=True,\n",
        "      truncation=True,\n",
        "      return_tensors='pt',\n",
        "    )\n",
        "    return {\n",
        "      'text': Text,\n",
        "      'input_ids': encoding['input_ids'].flatten(),\n",
        "      'attention_mask': encoding['attention_mask'].flatten(),\n",
        "      'Label': torch.tensor(Label, dtype=torch.long)\n",
        "    }"
      ],
      "execution_count": 167,
      "outputs": []
    },
    {
      "cell_type": "code",
      "metadata": {
        "id": "o1okDZUFNPch"
      },
      "source": [
        "# df_train, df_val = train_test_split(\n",
        "#   train_new,\n",
        "#   test_size=0.001,\n",
        "#   stratify = train_new.Label.values,\n",
        "#   random_state=42\n",
        "# )\n",
        "# # df_val, df_test = train_test_split(\n",
        "# #   df_test,\n",
        "# #   test_size=0.08,\n",
        "# #   stratify = df_test.Label.values,\n",
        "# #   random_state=42\n",
        "# # )\n",
        "# df_train.shape, df_val.shape"
      ],
      "execution_count": 168,
      "outputs": []
    },
    {
      "cell_type": "code",
      "metadata": {
        "colab": {
          "base_uri": "https://localhost:8080/"
        },
        "id": "mDLDLJTQXw1D",
        "outputId": "96e7dc08-8497-4d4f-dd92-40e95ac7f14c"
      },
      "source": [
        "df_train, df_val = train_test_split(\n",
        "  train,\n",
        "  test_size=0.20,\n",
        "  stratify = train.Label.values,\n",
        "  random_state=42\n",
        ")\n",
        "df_val, df_test = train_test_split(\n",
        "  df_val,\n",
        "  test_size=0.50,\n",
        "  stratify = df_val.Label.values,\n",
        "  random_state=42\n",
        ")\n",
        "\n",
        "\n",
        "df_train.shape, df_val.shape"
      ],
      "execution_count": 169,
      "outputs": [
        {
          "output_type": "execute_result",
          "data": {
            "text/plain": [
              "((2551, 2), (319, 2))"
            ]
          },
          "metadata": {},
          "execution_count": 169
        }
      ]
    },
    {
      "cell_type": "code",
      "metadata": {
        "id": "pjUN8P4574Im"
      },
      "source": [
        "\n",
        "# df_train.to_csv(\"df_train_0.02.csv\")\n",
        "# df_val.to_csv(\"df_val_0.02.csv\") \n",
        "# df_test.to_csv(\"df_test_0.02.csv\")"
      ],
      "execution_count": 170,
      "outputs": []
    },
    {
      "cell_type": "code",
      "metadata": {
        "id": "iju8tFSSX7mi"
      },
      "source": [
        "def create_data_loader(df, tokenizer, max_len, batch_size):\n",
        "  ds = GPReviewDataset(\n",
        "    Text=df.Text.to_numpy(),\n",
        "    Label=df.Label.to_numpy(),\n",
        "    tokenizer=tokenizer,\n",
        "    max_len=max_len\n",
        "  )\n",
        "  return DataLoader(\n",
        "    ds,\n",
        "    batch_size=batch_size,\n",
        "    num_workers=4\n",
        "  )"
      ],
      "execution_count": 171,
      "outputs": []
    },
    {
      "cell_type": "code",
      "metadata": {
        "id": "a6vFQ0QNYDbQ"
      },
      "source": [
        "BATCH_SIZE = 64\n",
        "train_data_loader = create_data_loader(df_train, tokenizer, MAX_LEN, BATCH_SIZE)\n",
        "val_data_loader = create_data_loader(df_val, tokenizer, MAX_LEN, BATCH_SIZE)\n",
        "# test_data_loader = create_data_loader(df_test, tokenizer, MAX_LEN, BATCH_SIZE)"
      ],
      "execution_count": 172,
      "outputs": []
    },
    {
      "cell_type": "code",
      "metadata": {
        "id": "6HiUX7ioYYEF"
      },
      "source": [
        "\n",
        "\n",
        "# data = next(iter(train_data_loader))\n",
        "# data.keys()"
      ],
      "execution_count": 173,
      "outputs": []
    },
    {
      "cell_type": "code",
      "metadata": {
        "id": "IdFKx4kFYOsn"
      },
      "source": [
        "# data = next(iter(train_data_loader))\n",
        "# data.keys()\n",
        "# print(data['input_ids'].shape)\n",
        "# print(data['attention_mask'].shape)\n",
        "# print(data['Label'].shape)"
      ],
      "execution_count": 174,
      "outputs": []
    },
    {
      "cell_type": "code",
      "metadata": {
        "id": "_AJ1yKQUYUA5"
      },
      "source": [
        "class SentimentClassifier(nn.Module):\n",
        "  def __init__(self, n_classes):\n",
        "    super(SentimentClassifier, self).__init__()\n",
        "    self.bert = AutoModel.from_pretrained('ai4bharat/indic-bert')\n",
        "    \n",
        "    self.drop = nn.Dropout(p=0.33)\n",
        "    self.out = nn.Linear(self.bert.config.hidden_size, n_classes)\n",
        "  def forward(self, input_ids, attention_mask):\n",
        "    _, pooled_output = self.bert(\n",
        "      input_ids=input_ids,\n",
        "      attention_mask=attention_mask,\n",
        "      return_dict=False)\n",
        "    output = self.drop(pooled_output)\n",
        "    return self.out(output)"
      ],
      "execution_count": 175,
      "outputs": []
    },
    {
      "cell_type": "code",
      "metadata": {
        "id": "C1UDBycgPTVX"
      },
      "source": [
        "import gc"
      ],
      "execution_count": 176,
      "outputs": []
    },
    {
      "cell_type": "code",
      "metadata": {
        "id": "sfoguHZKElGA"
      },
      "source": [
        "# bert = BertModel.from_pretrained('/content/pytorch')\n",
        "# conv = nn.Conv2d(in_channels=13, out_channels=13, kernel_size=(3, 768), padding=True)\n",
        "# relu = nn.ReLU()\n",
        "# pool = nn.MaxPool2d(kernel_size=3, stride=1)\n",
        "# dropout = nn.Dropout(0.1)\n",
        "# fc = nn.Linear(676, 3) # before : 442 with max_length 36 # 806 with max_length 64 1534 for 120 676 for 54\n",
        "# flat = nn.Flatten()\n",
        "# softmax = nn.LogSoftmax(dim=1)"
      ],
      "execution_count": 177,
      "outputs": []
    },
    {
      "cell_type": "code",
      "metadata": {
        "id": "e-ceaCgK__qW"
      },
      "source": [
        "# input_ids = data['input_ids']\n",
        "\n",
        "# attention_mask = data['attention_mask']\n",
        "\n",
        "# _,_,output = bert(input_ids = input_ids, attention_mask=attention_mask, output_hidden_states=True)\n",
        "\n",
        "# x = torch.transpose(torch.cat(tuple([t.unsqueeze(0) for t in output]), 0), 0, 1)\n",
        "\n",
        "\n",
        "# x = dropout(x)\n",
        "\n",
        "# x = conv(x)\n",
        "\n",
        "\n",
        "# # x= pool(x)\n",
        "\n",
        "\n",
        "# flat = nn.Flatten()\n",
        "\n",
        "# flat(x).size()"
      ],
      "execution_count": 178,
      "outputs": []
    },
    {
      "cell_type": "code",
      "metadata": {
        "id": "X5vm7Q0MHUQ2"
      },
      "source": [
        "# class BERT_Arch(nn.Module):\n",
        "\n",
        "#     def __init__(self, bert):\n",
        "#         super(BERT_Arch, self).__init__()\n",
        "#         self.bert = BertModel.from_pretrained('/content/pytorch')\n",
        "#         self.conv = nn.Conv2d(in_channels=13, out_channels=13, kernel_size=(3, 768), padding=True)\n",
        "#         self.relu = nn.ReLU()\n",
        "#         self.pool = nn.MaxPool2d(kernel_size=3, stride=1)\n",
        "#         self.dropout = nn.Dropout(0.20)\n",
        "#         self.fc = nn.Linear(442, 3) # before : 442 with max_length 36 # 806 with max_length 64 1534 for 120 676 for 54\n",
        "#         self.flat = nn.Flatten()\n",
        "#         self.softmax = nn.Softmax(dim=1)\n",
        "\n",
        "#     def forward(self, input_ids, attention_mask):\n",
        "#         _,_, all_layers = self.bert(input_ids = input_ids, attention_mask=attention_mask, output_hidden_states=True)\n",
        "#         # all_layers  = [13, 32, 64, 768]\n",
        "#         x = torch.transpose(torch.cat(tuple([t.unsqueeze(0) for t in all_layers]), 0), 0, 1)\n",
        "#         del all_layers\n",
        "#         gc.collect()\n",
        "#         torch.cuda.empty_cache()\n",
        "#         x = self.pool(self.dropout(self.relu(self.conv(self.dropout(x)))))\n",
        "#         x = self.fc(self.dropout(self.flat(self.dropout(x))))\n",
        "#         return self.softmax(x)"
      ],
      "execution_count": 179,
      "outputs": []
    },
    {
      "cell_type": "code",
      "metadata": {
        "id": "HuWcIWfIR7F2"
      },
      "source": [
        "# class BERT_Arch(nn.Module):\n",
        "\n",
        "#     def __init__(self, bert):\n",
        "#         super(BERT_Arch, self).__init__()\n",
        "#         self.bert = BertModel.from_pretrained('/content/pytorch')\n",
        "#         self.conv = nn.Conv2d(in_channels=13, out_channels=13, kernel_size=(3, 768), padding=True)\n",
        "#         self.relu = nn.ReLU()\n",
        "#         self.pool = nn.MaxPool2d(kernel_size=3, stride=1)\n",
        "#         self.dropout = nn.Dropout(0.15)\n",
        "#         self.fc = nn.Linear(2496, 3) # before : 442 with max_length 36 # 806 with max_length 64 1534 for 120 676 for 54\n",
        "#         self.flat = nn.Flatten()\n",
        "#         self.softmax = nn.Softmax(dim=1)\n",
        "\n",
        "#     def forward(self, input_ids, attention_mask):\n",
        "#         _,_, all_layers = self.bert(input_ids = input_ids, attention_mask=attention_mask, output_hidden_states=True)\n",
        "#         # all_layers  = [13, 32, 64, 768]\n",
        "#         x = torch.transpose(torch.cat(tuple([t.unsqueeze(0) for t in all_layers]), 0), 0, 1)\n",
        "#         del all_layers\n",
        "#         gc.collect()\n",
        "#         torch.cuda.empty_cache()\n",
        "#         x = self.dropout(self.relu(self.conv(self.dropout(x))))\n",
        "#         x = self.fc(self.dropout(self.flat(self.dropout(x))))\n",
        "#         return self.softmax(x)"
      ],
      "execution_count": 180,
      "outputs": []
    },
    {
      "cell_type": "code",
      "metadata": {
        "id": "QQZscfPBZfyE"
      },
      "source": [
        "n_classes = 3\n",
        "class_names = ['0','1','2']"
      ],
      "execution_count": 181,
      "outputs": []
    },
    {
      "cell_type": "code",
      "metadata": {
        "id": "PjCXwEZdaTX6",
        "colab": {
          "base_uri": "https://localhost:8080/"
        },
        "outputId": "f9c0b589-19d4-470b-f431-2684b6721c10"
      },
      "source": [
        "\n",
        "modell = SentimentClassifier(len(class_names))\n",
        "modell = modell.to(device)"
      ],
      "execution_count": 182,
      "outputs": [
        {
          "output_type": "stream",
          "name": "stderr",
          "text": [
            "Some weights of the model checkpoint at ai4bharat/indic-bert were not used when initializing AlbertModel: ['sop_classifier.classifier.bias', 'sop_classifier.classifier.weight', 'predictions.dense.bias', 'predictions.decoder.weight', 'predictions.LayerNorm.bias', 'predictions.LayerNorm.weight', 'predictions.decoder.bias', 'predictions.bias', 'predictions.dense.weight']\n",
            "- This IS expected if you are initializing AlbertModel from the checkpoint of a model trained on another task or with another architecture (e.g. initializing a BertForSequenceClassification model from a BertForPreTraining model).\n",
            "- This IS NOT expected if you are initializing AlbertModel from the checkpoint of a model that you expect to be exactly identical (initializing a BertForSequenceClassification model from a BertForSequenceClassification model).\n"
          ]
        }
      ]
    },
    {
      "cell_type": "code",
      "metadata": {
        "id": "9gqYU8y_njQH"
      },
      "source": [
        "\n",
        "\n",
        "import math"
      ],
      "execution_count": 183,
      "outputs": []
    },
    {
      "cell_type": "code",
      "metadata": {
        "id": "N0DtHCT_aoxo"
      },
      "source": [
        "EPOCHS = 3\n",
        "optimizer = AdamW(modell.parameters(), lr=2e-5, correct_bias=True)\n",
        "total_steps = len(train_data_loader) * EPOCHS\n",
        "scheduler = get_linear_schedule_with_warmup(\n",
        "  optimizer,\n",
        "  num_warmup_steps=0,\n",
        "  num_training_steps=total_steps\n",
        ")"
      ],
      "execution_count": 184,
      "outputs": []
    },
    {
      "cell_type": "code",
      "metadata": {
        "id": "SztLWJifbD7B"
      },
      "source": [
        ""
      ],
      "execution_count": 184,
      "outputs": []
    },
    {
      "cell_type": "code",
      "metadata": {
        "id": "VetywPpuayle"
      },
      "source": [
        "loss_fn = nn.CrossEntropyLoss().to(device)"
      ],
      "execution_count": 185,
      "outputs": []
    },
    {
      "cell_type": "code",
      "metadata": {
        "id": "a0QHm1uea2E3"
      },
      "source": [
        "\n",
        "def train_epoch(\n",
        "  modell,\n",
        "  data_loader,\n",
        "  loss_fn,\n",
        "  optimizer,\n",
        "  device,\n",
        "  scheduler,\n",
        "  n_examples):\n",
        "  modell = modell.train()\n",
        "  losses = []\n",
        "  correct_predictions = 0\n",
        "  for d in data_loader:\n",
        "    input_ids = d[\"input_ids\"].to(device)\n",
        "    attention_mask = d[\"attention_mask\"].to(device)\n",
        "    Label = d[\"Label\"].to(device)\n",
        "    outputs = modell(\n",
        "      input_ids=input_ids,\n",
        "      attention_mask=attention_mask\n",
        "    )\n",
        "    \n",
        "    _, preds = torch.max(outputs, dim=1)\n",
        "    loss = loss_fn(outputs, Label)\n",
        "    correct_predictions += torch.sum(preds == Label)\n",
        "    losses.append(loss.item())\n",
        "    loss.backward()\n",
        "    nn.utils.clip_grad_norm_(modell.parameters(), max_norm=1.0)\n",
        "    optimizer.step()\n",
        "    scheduler.step()\n",
        "    optimizer.zero_grad()\n",
        "  return correct_predictions.double() / n_examples, np.mean(losses)"
      ],
      "execution_count": 186,
      "outputs": []
    },
    {
      "cell_type": "code",
      "metadata": {
        "id": "UEDEORvKa-R5"
      },
      "source": [
        "def eval_model(modell, data_loader, loss_fn, device, n_examples):\n",
        "  modell = modell.eval()\n",
        "  losses = []\n",
        "  correct_predictions = 0\n",
        "  with torch.no_grad():\n",
        "    for d in data_loader:\n",
        "      input_ids = d[\"input_ids\"].to(device)\n",
        "      attention_mask = d[\"attention_mask\"].to(device)\n",
        "      Label = d[\"Label\"].to(device)\n",
        "      outputs = modell(\n",
        "        input_ids=input_ids,\n",
        "        attention_mask=attention_mask\n",
        "      )\n",
        "      _, preds = torch.max(outputs, dim=1)\n",
        "      loss = loss_fn(outputs, Label)\n",
        "      correct_predictions += torch.sum(preds == Label)\n",
        "      losses.append(loss.item())\n",
        "  return correct_predictions.double() / n_examples, np.mean(losses)"
      ],
      "execution_count": 187,
      "outputs": []
    },
    {
      "cell_type": "code",
      "metadata": {
        "colab": {
          "base_uri": "https://localhost:8080/"
        },
        "id": "7XVQzn-SbBuF",
        "outputId": "8a579188-7aa1-4565-eacd-90c4ca2ee63c"
      },
      "source": [
        "\n",
        "%%time\n",
        "history = defaultdict(list)\n",
        "best_accuracy = 0\n",
        "for epoch in range(EPOCHS):\n",
        "  print(f'Epoch {epoch + 1}/{EPOCHS}')\n",
        "  print('-' * 10)\n",
        "  train_acc, train_loss = train_epoch(\n",
        "    modell,\n",
        "    train_data_loader,\n",
        "    loss_fn,\n",
        "    optimizer,\n",
        "    device,\n",
        "    scheduler,\n",
        "    len(df_train)\n",
        "  )\n",
        "  print(f'Train loss {train_loss} accuracy {train_acc}')\n",
        "  val_acc, val_loss = eval_model(\n",
        "    modell,\n",
        "    val_data_loader,\n",
        "    loss_fn,\n",
        "    device,\n",
        "    len(df_val)\n",
        "  )\n",
        "\n",
        "  print(f'Val   loss {val_loss} accuracy {val_acc}')\n",
        "  print()\n",
        "  history['train_acc'].append(train_acc)\n",
        "  history['train_loss'].append(train_loss)\n",
        "  history['val_acc'].append(val_acc)\n",
        "  history['val_loss'].append(val_loss)\n",
        "  if val_acc > best_accuracy:\n",
        "    torch.save(modell.state_dict(), 'best_model_state.bin')\n",
        "    best_accuracy = val_acc"
      ],
      "execution_count": 188,
      "outputs": [
        {
          "output_type": "stream",
          "name": "stdout",
          "text": [
            "Epoch 1/3\n",
            "----------\n",
            "Train loss 0.9782695859670639 accuracy 0.5507644061152489\n",
            "Val   loss 0.8540573954582215 accuracy 0.5517241379310345\n",
            "\n",
            "Epoch 2/3\n",
            "----------\n",
            "Train loss 0.8225342810153962 accuracy 0.5542924343394747\n",
            "Val   loss 0.7909026384353638 accuracy 0.5517241379310345\n",
            "\n",
            "Epoch 3/3\n",
            "----------\n",
            "Train loss 0.7607745304703712 accuracy 0.5566444531556253\n",
            "Val   loss 0.7492457032203674 accuracy 0.5517241379310345\n",
            "\n",
            "CPU times: user 39.6 s, sys: 3.46 s, total: 43.1 s\n",
            "Wall time: 44.8 s\n"
          ]
        }
      ]
    },
    {
      "cell_type": "code",
      "metadata": {
        "id": "8Mpj2UjDt3XU"
      },
      "source": [
        "# !cp /content/best_model_state.bin /content/drive/MyDrive/fihindibert"
      ],
      "execution_count": 62,
      "outputs": []
    },
    {
      "cell_type": "code",
      "metadata": {
        "id": "iAjsdWhdVx8w"
      },
      "source": [
        "# !mkdir /content/drive/MyDrive/ftb5"
      ],
      "execution_count": 63,
      "outputs": []
    },
    {
      "cell_type": "code",
      "metadata": {
        "id": "PhNV7bhH2SlP"
      },
      "source": [
        "# modell.bert.save_pretrained(\"/content/drive/MyDrive/ftb5\")"
      ],
      "execution_count": 64,
      "outputs": []
    },
    {
      "cell_type": "code",
      "metadata": {
        "id": "09FNZyD3pC-r"
      },
      "source": [
        "# modell.save(modell, '/content/drive/MyDrive/fihindibert/model.bin')"
      ],
      "execution_count": 65,
      "outputs": []
    },
    {
      "cell_type": "code",
      "metadata": {
        "id": "L5KZV2hUNLSJ"
      },
      "source": [
        "test_data_loader = create_data_loader(df_test, tokenizer, MAX_LEN, BATCH_SIZE)"
      ],
      "execution_count": 189,
      "outputs": []
    },
    {
      "cell_type": "code",
      "metadata": {
        "colab": {
          "base_uri": "https://localhost:8080/"
        },
        "id": "Wp-nAKbmbG2V",
        "outputId": "516ad7c5-7272-4fd5-a5e8-e2b2b1347bcf"
      },
      "source": [
        "test_acc, _ = eval_model(\n",
        "  modell,\n",
        "  test_data_loader,\n",
        "  loss_fn,\n",
        "  device,\n",
        "  len(df_test)\n",
        ")\n",
        "test_acc.item()"
      ],
      "execution_count": 190,
      "outputs": [
        {
          "output_type": "execute_result",
          "data": {
            "text/plain": [
              "0.554858934169279"
            ]
          },
          "metadata": {},
          "execution_count": 190
        }
      ]
    },
    {
      "cell_type": "code",
      "metadata": {
        "id": "uhwLk25jVJhi"
      },
      "source": [
        "actual_test_data_loader = create_data_loader(testt, tokenizer, MAX_LEN, BATCH_SIZE)"
      ],
      "execution_count": 60,
      "outputs": []
    },
    {
      "cell_type": "code",
      "metadata": {
        "colab": {
          "base_uri": "https://localhost:8080/"
        },
        "id": "f4whdvlwVQG_",
        "outputId": "0358eb48-32c3-452e-8870-ed88a9dc26d7"
      },
      "source": [
        "actual_test_acc, _ = eval_model(\n",
        "  modell,\n",
        "  actual_test_data_loader,\n",
        "  loss_fn,\n",
        "  device,\n",
        "  len(testt)\n",
        ")\n",
        "actual_test_acc.item()"
      ],
      "execution_count": 61,
      "outputs": [
        {
          "output_type": "execute_result",
          "data": {
            "text/plain": [
              "0.27083333333333337"
            ]
          },
          "metadata": {},
          "execution_count": 61
        }
      ]
    },
    {
      "cell_type": "code",
      "metadata": {
        "id": "GTPkRWy-VUVE"
      },
      "source": [
        "def get_predictions(modell, data_loader):\n",
        "  modell = modell.eval()\n",
        "  review_texts = []\n",
        "  predictions = []\n",
        "  prediction_probs = []\n",
        "  real_values = []\n",
        "  with torch.no_grad():\n",
        "    for d in data_loader:\n",
        "      text = d[\"text\"]\n",
        "      input_ids = d[\"input_ids\"].to(device)\n",
        "      attention_mask = d[\"attention_mask\"].to(device)\n",
        "      Label = d[\"Label\"].to(device)\n",
        "      outputs = modell(\n",
        "        input_ids=input_ids,\n",
        "        attention_mask=attention_mask\n",
        "      )\n",
        "      _, preds = torch.max(outputs, dim=1)\n",
        "      text.extend(text)\n",
        "      predictions.extend(preds)\n",
        "      prediction_probs.extend(outputs)\n",
        "      real_values.extend(Label)\n",
        "  predictions = torch.stack(predictions).cpu()\n",
        "  prediction_probs = torch.stack(prediction_probs).cpu()\n",
        "  real_values = torch.stack(real_values).cpu()\n",
        "  return text, predictions, prediction_probs, real_values"
      ],
      "execution_count": 191,
      "outputs": []
    },
    {
      "cell_type": "code",
      "metadata": {
        "id": "4zL2ISVOd5Fq"
      },
      "source": [
        "y_review_texts, y_pred, y_pred_probs, y_test = get_predictions(\n",
        "  modell,\n",
        "  test_data_loader\n",
        ")"
      ],
      "execution_count": 192,
      "outputs": []
    },
    {
      "cell_type": "code",
      "metadata": {
        "id": "2W-OA2yUVb1t"
      },
      "source": [
        "y_review_texts, y_pred, y_pred_probs, y_test = get_predictions(\n",
        "  modell,\n",
        "  actual_test_data_loader\n",
        ")"
      ],
      "execution_count": 67,
      "outputs": []
    },
    {
      "cell_type": "markdown",
      "metadata": {
        "id": "g-8vyb5xXjX_"
      },
      "source": [
        "# **TRAC2**"
      ]
    },
    {
      "cell_type": "code",
      "metadata": {
        "colab": {
          "base_uri": "https://localhost:8080/"
        },
        "id": "nuSQsvdPVf6N",
        "outputId": "86b5ccd5-9d07-40a0-a176-a136c7c113e4"
      },
      "source": [
        "print(classification_report(y_test, y_pred))"
      ],
      "execution_count": 68,
      "outputs": [
        {
          "output_type": "stream",
          "name": "stdout",
          "text": [
            "              precision    recall  f1-score   support\n",
            "\n",
            "           0       0.00      0.00      0.00       191\n",
            "           1       0.27      1.00      0.43       325\n",
            "           2       0.00      0.00      0.00       684\n",
            "\n",
            "    accuracy                           0.27      1200\n",
            "   macro avg       0.09      0.33      0.14      1200\n",
            "weighted avg       0.07      0.27      0.12      1200\n",
            "\n"
          ]
        }
      ]
    },
    {
      "cell_type": "markdown",
      "metadata": {
        "id": "biycDYwfXnqz"
      },
      "source": [
        "# **Hate Speech**"
      ]
    },
    {
      "cell_type": "code",
      "metadata": {
        "colab": {
          "base_uri": "https://localhost:8080/"
        },
        "id": "2EvmxIUHFN3M",
        "outputId": "511fd7c1-ba8f-4dfb-af7d-25f6a5224919"
      },
      "source": [
        "print(classification_report(y_test, y_pred))"
      ],
      "execution_count": 131,
      "outputs": [
        {
          "output_type": "stream",
          "name": "stdout",
          "text": [
            "              precision    recall  f1-score   support\n",
            "\n",
            "           0       0.64      1.00      0.78       291\n",
            "           1       0.00      0.00      0.00       166\n",
            "\n",
            "    accuracy                           0.64       457\n",
            "   macro avg       0.32      0.50      0.39       457\n",
            "weighted avg       0.41      0.64      0.50       457\n",
            "\n"
          ]
        }
      ]
    },
    {
      "cell_type": "markdown",
      "metadata": {
        "id": "qsHDTBIGCwFY"
      },
      "source": [
        "# **HOT**"
      ]
    },
    {
      "cell_type": "code",
      "metadata": {
        "colab": {
          "base_uri": "https://localhost:8080/"
        },
        "id": "CpAPocabeBk8",
        "outputId": "21ee1ad8-b6eb-443d-dfe0-947b99e59bc5"
      },
      "source": [
        "print(classification_report(y_test, y_pred))"
      ],
      "execution_count": 193,
      "outputs": [
        {
          "output_type": "stream",
          "name": "stdout",
          "text": [
            "              precision    recall  f1-score   support\n",
            "\n",
            "           0       0.00      0.00      0.00       112\n",
            "           1       0.00      0.00      0.00        30\n",
            "           2       0.55      1.00      0.71       177\n",
            "\n",
            "    accuracy                           0.55       319\n",
            "   macro avg       0.18      0.33      0.24       319\n",
            "weighted avg       0.31      0.55      0.40       319\n",
            "\n"
          ]
        }
      ]
    },
    {
      "cell_type": "code",
      "metadata": {
        "id": "m1VYlKhVCxyx"
      },
      "source": [
        ""
      ],
      "execution_count": null,
      "outputs": []
    }
  ]
}